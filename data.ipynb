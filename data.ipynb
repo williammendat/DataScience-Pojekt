{
  "cells": [
    {
      "cell_type": "markdown",
      "metadata": {
        "id": "view-in-github",
        "colab_type": "text"
      },
      "source": [
        "<a href=\"https://colab.research.google.com/github/williammendat/DataScience-Pojekt/blob/main/data.ipynb\" target=\"_parent\"><img src=\"https://colab.research.google.com/assets/colab-badge.svg\" alt=\"Open In Colab\"/></a>"
      ]
    },
    {
      "cell_type": "markdown",
      "metadata": {
        "id": "K6y0d-GHapCH"
      },
      "source": [
        "# A first look at the data"
      ]
    },
    {
      "cell_type": "code",
      "execution_count": null,
      "metadata": {
        "id": "fHL6mPnbapCQ",
        "outputId": "c65cc652-fb15-4c95-fbc2-949e06723761",
        "colab": {
          "base_uri": "https://localhost:8080/"
        }
      },
      "outputs": [
        {
          "output_type": "stream",
          "name": "stdout",
          "text": [
            "--2022-05-22 19:04:54--  https://www.keuper-labs.org/project_ss22.zip\n",
            "Resolving www.keuper-labs.org (www.keuper-labs.org)... 91.250.118.129\n",
            "Connecting to www.keuper-labs.org (www.keuper-labs.org)|91.250.118.129|:443... connected.\n",
            "WARNING: cannot verify www.keuper-labs.org's certificate, issued by ‘CN=Starfield Secure Certificate Authority - G2,OU=http://certs.starfieldtech.com/repository/,O=Starfield Technologies\\\\, Inc.,L=Scottsdale,ST=Arizona,C=US’:\n",
            "  Unable to locally verify the issuer's authority.\n",
            "HTTP request sent, awaiting response... 200 OK\n",
            "Length: 70859177 (68M) [application/zip]\n",
            "Saving to: ‘project_ss22.zip’\n",
            "\n",
            "project_ss22.zip    100%[===================>]  67.58M  11.4MB/s    in 6.5s    \n",
            "\n",
            "2022-05-22 19:05:01 (10.4 MB/s) - ‘project_ss22.zip’ saved [70859177/70859177]\n",
            "\n"
          ]
        }
      ],
      "source": [
        "#get data from server\n",
        "!wget --no-check-certificate https://www.keuper-labs.org/project_ss22.zip"
      ]
    },
    {
      "cell_type": "code",
      "execution_count": null,
      "metadata": {
        "id": "rtGf005RapCU",
        "outputId": "fe864b75-cf38-4043-8454-2bf076b6413f",
        "colab": {
          "base_uri": "https://localhost:8080/"
        }
      },
      "outputs": [
        {
          "output_type": "stream",
          "name": "stdout",
          "text": [
            "Archive:  project_ss22.zip\n",
            "   creating: dressipi_recsys2022/\n",
            "  inflating: dressipi_recsys2022/candidate_items.csv  \n",
            "  inflating: dressipi_recsys2022/item_features.csv  \n",
            "  inflating: dressipi_recsys2022/test_leaderboard_sessions.csv  \n",
            "  inflating: dressipi_recsys2022/test_final_sessions.csv  \n",
            "  inflating: dressipi_recsys2022/README.txt  \n",
            "  inflating: dressipi_recsys2022/train_purchases.csv  \n",
            "  inflating: dressipi_recsys2022/train_sessions.csv  \n",
            "  inflating: dressipi_recsys2022/README_win.txt  \n"
          ]
        }
      ],
      "source": [
        "#unpack\n",
        "!unzip project_ss22.zip"
      ]
    },
    {
      "cell_type": "code",
      "execution_count": null,
      "metadata": {
        "id": "2uv_rMvIapCX"
      },
      "outputs": [],
      "source": [
        "import pandas as pd"
      ]
    },
    {
      "cell_type": "markdown",
      "source": [
        "Get the necessary csv files"
      ],
      "metadata": {
        "id": "6HaZLdShpes3"
      }
    },
    {
      "cell_type": "code",
      "execution_count": null,
      "metadata": {
        "id": "q8jHgLf_apCX"
      },
      "outputs": [],
      "source": [
        "items = pd.read_csv('dressipi_recsys2022/candidate_items.csv')\n",
        "features = pd.read_csv('dressipi_recsys2022/item_features.csv')\n",
        "train_purchases = pd.read_csv('dressipi_recsys2022/train_purchases.csv')\n",
        "train_sessions = pd.read_csv('dressipi_recsys2022/train_sessions.csv')\n",
        "test_leaderboard_sessions = pd.read_csv('dressipi_recsys2022/test_leaderboard_sessions.csv')"
      ]
    },
    {
      "cell_type": "markdown",
      "metadata": {
        "id": "JJ_e2-2FapCY"
      },
      "source": [
        "## have a first look"
      ]
    },
    {
      "cell_type": "code",
      "source": [
        "test_leaderboard_sessions.head(10)"
      ],
      "metadata": {
        "colab": {
          "base_uri": "https://localhost:8080/",
          "height": 363
        },
        "id": "BFHPBqMQvX7P",
        "outputId": "e59fa691-6b29-4dca-a4f1-dacb4a7b7232"
      },
      "execution_count": null,
      "outputs": [
        {
          "output_type": "execute_result",
          "data": {
            "text/plain": [
              "   session_id  item_id                     date\n",
              "0          26    19185  2021-06-16 09:53:54.158\n",
              "1         200    17089  2021-06-25 12:23:40.811\n",
              "2         200    17089  2021-06-25 12:24:36.631\n",
              "3         200     8060  2021-06-25 12:24:41.677\n",
              "4         200     4758  2021-06-25 12:24:50.692\n",
              "5         205     8194  2021-06-11 00:28:07.058\n",
              "6         495     6853  2021-06-14 22:13:06.741\n",
              "7         521    26471   2021-06-19 13:50:03.09\n",
              "8         587    22204   2021-06-01 16:43:22.80\n",
              "9         721    13914  2021-06-19 18:46:57.263"
            ],
            "text/html": [
              "\n",
              "  <div id=\"df-1284b3dd-eb58-4570-8c21-2c7967369155\">\n",
              "    <div class=\"colab-df-container\">\n",
              "      <div>\n",
              "<style scoped>\n",
              "    .dataframe tbody tr th:only-of-type {\n",
              "        vertical-align: middle;\n",
              "    }\n",
              "\n",
              "    .dataframe tbody tr th {\n",
              "        vertical-align: top;\n",
              "    }\n",
              "\n",
              "    .dataframe thead th {\n",
              "        text-align: right;\n",
              "    }\n",
              "</style>\n",
              "<table border=\"1\" class=\"dataframe\">\n",
              "  <thead>\n",
              "    <tr style=\"text-align: right;\">\n",
              "      <th></th>\n",
              "      <th>session_id</th>\n",
              "      <th>item_id</th>\n",
              "      <th>date</th>\n",
              "    </tr>\n",
              "  </thead>\n",
              "  <tbody>\n",
              "    <tr>\n",
              "      <th>0</th>\n",
              "      <td>26</td>\n",
              "      <td>19185</td>\n",
              "      <td>2021-06-16 09:53:54.158</td>\n",
              "    </tr>\n",
              "    <tr>\n",
              "      <th>1</th>\n",
              "      <td>200</td>\n",
              "      <td>17089</td>\n",
              "      <td>2021-06-25 12:23:40.811</td>\n",
              "    </tr>\n",
              "    <tr>\n",
              "      <th>2</th>\n",
              "      <td>200</td>\n",
              "      <td>17089</td>\n",
              "      <td>2021-06-25 12:24:36.631</td>\n",
              "    </tr>\n",
              "    <tr>\n",
              "      <th>3</th>\n",
              "      <td>200</td>\n",
              "      <td>8060</td>\n",
              "      <td>2021-06-25 12:24:41.677</td>\n",
              "    </tr>\n",
              "    <tr>\n",
              "      <th>4</th>\n",
              "      <td>200</td>\n",
              "      <td>4758</td>\n",
              "      <td>2021-06-25 12:24:50.692</td>\n",
              "    </tr>\n",
              "    <tr>\n",
              "      <th>5</th>\n",
              "      <td>205</td>\n",
              "      <td>8194</td>\n",
              "      <td>2021-06-11 00:28:07.058</td>\n",
              "    </tr>\n",
              "    <tr>\n",
              "      <th>6</th>\n",
              "      <td>495</td>\n",
              "      <td>6853</td>\n",
              "      <td>2021-06-14 22:13:06.741</td>\n",
              "    </tr>\n",
              "    <tr>\n",
              "      <th>7</th>\n",
              "      <td>521</td>\n",
              "      <td>26471</td>\n",
              "      <td>2021-06-19 13:50:03.09</td>\n",
              "    </tr>\n",
              "    <tr>\n",
              "      <th>8</th>\n",
              "      <td>587</td>\n",
              "      <td>22204</td>\n",
              "      <td>2021-06-01 16:43:22.80</td>\n",
              "    </tr>\n",
              "    <tr>\n",
              "      <th>9</th>\n",
              "      <td>721</td>\n",
              "      <td>13914</td>\n",
              "      <td>2021-06-19 18:46:57.263</td>\n",
              "    </tr>\n",
              "  </tbody>\n",
              "</table>\n",
              "</div>\n",
              "      <button class=\"colab-df-convert\" onclick=\"convertToInteractive('df-1284b3dd-eb58-4570-8c21-2c7967369155')\"\n",
              "              title=\"Convert this dataframe to an interactive table.\"\n",
              "              style=\"display:none;\">\n",
              "        \n",
              "  <svg xmlns=\"http://www.w3.org/2000/svg\" height=\"24px\"viewBox=\"0 0 24 24\"\n",
              "       width=\"24px\">\n",
              "    <path d=\"M0 0h24v24H0V0z\" fill=\"none\"/>\n",
              "    <path d=\"M18.56 5.44l.94 2.06.94-2.06 2.06-.94-2.06-.94-.94-2.06-.94 2.06-2.06.94zm-11 1L8.5 8.5l.94-2.06 2.06-.94-2.06-.94L8.5 2.5l-.94 2.06-2.06.94zm10 10l.94 2.06.94-2.06 2.06-.94-2.06-.94-.94-2.06-.94 2.06-2.06.94z\"/><path d=\"M17.41 7.96l-1.37-1.37c-.4-.4-.92-.59-1.43-.59-.52 0-1.04.2-1.43.59L10.3 9.45l-7.72 7.72c-.78.78-.78 2.05 0 2.83L4 21.41c.39.39.9.59 1.41.59.51 0 1.02-.2 1.41-.59l7.78-7.78 2.81-2.81c.8-.78.8-2.07 0-2.86zM5.41 20L4 18.59l7.72-7.72 1.47 1.35L5.41 20z\"/>\n",
              "  </svg>\n",
              "      </button>\n",
              "      \n",
              "  <style>\n",
              "    .colab-df-container {\n",
              "      display:flex;\n",
              "      flex-wrap:wrap;\n",
              "      gap: 12px;\n",
              "    }\n",
              "\n",
              "    .colab-df-convert {\n",
              "      background-color: #E8F0FE;\n",
              "      border: none;\n",
              "      border-radius: 50%;\n",
              "      cursor: pointer;\n",
              "      display: none;\n",
              "      fill: #1967D2;\n",
              "      height: 32px;\n",
              "      padding: 0 0 0 0;\n",
              "      width: 32px;\n",
              "    }\n",
              "\n",
              "    .colab-df-convert:hover {\n",
              "      background-color: #E2EBFA;\n",
              "      box-shadow: 0px 1px 2px rgba(60, 64, 67, 0.3), 0px 1px 3px 1px rgba(60, 64, 67, 0.15);\n",
              "      fill: #174EA6;\n",
              "    }\n",
              "\n",
              "    [theme=dark] .colab-df-convert {\n",
              "      background-color: #3B4455;\n",
              "      fill: #D2E3FC;\n",
              "    }\n",
              "\n",
              "    [theme=dark] .colab-df-convert:hover {\n",
              "      background-color: #434B5C;\n",
              "      box-shadow: 0px 1px 3px 1px rgba(0, 0, 0, 0.15);\n",
              "      filter: drop-shadow(0px 1px 2px rgba(0, 0, 0, 0.3));\n",
              "      fill: #FFFFFF;\n",
              "    }\n",
              "  </style>\n",
              "\n",
              "      <script>\n",
              "        const buttonEl =\n",
              "          document.querySelector('#df-1284b3dd-eb58-4570-8c21-2c7967369155 button.colab-df-convert');\n",
              "        buttonEl.style.display =\n",
              "          google.colab.kernel.accessAllowed ? 'block' : 'none';\n",
              "\n",
              "        async function convertToInteractive(key) {\n",
              "          const element = document.querySelector('#df-1284b3dd-eb58-4570-8c21-2c7967369155');\n",
              "          const dataTable =\n",
              "            await google.colab.kernel.invokeFunction('convertToInteractive',\n",
              "                                                     [key], {});\n",
              "          if (!dataTable) return;\n",
              "\n",
              "          const docLinkHtml = 'Like what you see? Visit the ' +\n",
              "            '<a target=\"_blank\" href=https://colab.research.google.com/notebooks/data_table.ipynb>data table notebook</a>'\n",
              "            + ' to learn more about interactive tables.';\n",
              "          element.innerHTML = '';\n",
              "          dataTable['output_type'] = 'display_data';\n",
              "          await google.colab.output.renderOutput(dataTable, element);\n",
              "          const docLink = document.createElement('div');\n",
              "          docLink.innerHTML = docLinkHtml;\n",
              "          element.appendChild(docLink);\n",
              "        }\n",
              "      </script>\n",
              "    </div>\n",
              "  </div>\n",
              "  "
            ]
          },
          "metadata": {},
          "execution_count": 5
        }
      ]
    },
    {
      "cell_type": "code",
      "source": [
        "#how many items do we have?\n",
        "items.describe()"
      ],
      "metadata": {
        "id": "jAR9a43teAGq",
        "outputId": "b0088237-124e-49fc-eea6-78e085a920d0",
        "colab": {
          "base_uri": "https://localhost:8080/",
          "height": 300
        }
      },
      "execution_count": null,
      "outputs": [
        {
          "output_type": "execute_result",
          "data": {
            "text/plain": [
              "            item_id\n",
              "count   4990.000000\n",
              "mean   14007.035271\n",
              "std     8218.231425\n",
              "min        4.000000\n",
              "25%     6833.500000\n",
              "50%    14108.500000\n",
              "75%    21200.000000\n",
              "max    28137.000000"
            ],
            "text/html": [
              "\n",
              "  <div id=\"df-d513bec1-12e8-4b9f-966e-d356c4067772\">\n",
              "    <div class=\"colab-df-container\">\n",
              "      <div>\n",
              "<style scoped>\n",
              "    .dataframe tbody tr th:only-of-type {\n",
              "        vertical-align: middle;\n",
              "    }\n",
              "\n",
              "    .dataframe tbody tr th {\n",
              "        vertical-align: top;\n",
              "    }\n",
              "\n",
              "    .dataframe thead th {\n",
              "        text-align: right;\n",
              "    }\n",
              "</style>\n",
              "<table border=\"1\" class=\"dataframe\">\n",
              "  <thead>\n",
              "    <tr style=\"text-align: right;\">\n",
              "      <th></th>\n",
              "      <th>item_id</th>\n",
              "    </tr>\n",
              "  </thead>\n",
              "  <tbody>\n",
              "    <tr>\n",
              "      <th>count</th>\n",
              "      <td>4990.000000</td>\n",
              "    </tr>\n",
              "    <tr>\n",
              "      <th>mean</th>\n",
              "      <td>14007.035271</td>\n",
              "    </tr>\n",
              "    <tr>\n",
              "      <th>std</th>\n",
              "      <td>8218.231425</td>\n",
              "    </tr>\n",
              "    <tr>\n",
              "      <th>min</th>\n",
              "      <td>4.000000</td>\n",
              "    </tr>\n",
              "    <tr>\n",
              "      <th>25%</th>\n",
              "      <td>6833.500000</td>\n",
              "    </tr>\n",
              "    <tr>\n",
              "      <th>50%</th>\n",
              "      <td>14108.500000</td>\n",
              "    </tr>\n",
              "    <tr>\n",
              "      <th>75%</th>\n",
              "      <td>21200.000000</td>\n",
              "    </tr>\n",
              "    <tr>\n",
              "      <th>max</th>\n",
              "      <td>28137.000000</td>\n",
              "    </tr>\n",
              "  </tbody>\n",
              "</table>\n",
              "</div>\n",
              "      <button class=\"colab-df-convert\" onclick=\"convertToInteractive('df-d513bec1-12e8-4b9f-966e-d356c4067772')\"\n",
              "              title=\"Convert this dataframe to an interactive table.\"\n",
              "              style=\"display:none;\">\n",
              "        \n",
              "  <svg xmlns=\"http://www.w3.org/2000/svg\" height=\"24px\"viewBox=\"0 0 24 24\"\n",
              "       width=\"24px\">\n",
              "    <path d=\"M0 0h24v24H0V0z\" fill=\"none\"/>\n",
              "    <path d=\"M18.56 5.44l.94 2.06.94-2.06 2.06-.94-2.06-.94-.94-2.06-.94 2.06-2.06.94zm-11 1L8.5 8.5l.94-2.06 2.06-.94-2.06-.94L8.5 2.5l-.94 2.06-2.06.94zm10 10l.94 2.06.94-2.06 2.06-.94-2.06-.94-.94-2.06-.94 2.06-2.06.94z\"/><path d=\"M17.41 7.96l-1.37-1.37c-.4-.4-.92-.59-1.43-.59-.52 0-1.04.2-1.43.59L10.3 9.45l-7.72 7.72c-.78.78-.78 2.05 0 2.83L4 21.41c.39.39.9.59 1.41.59.51 0 1.02-.2 1.41-.59l7.78-7.78 2.81-2.81c.8-.78.8-2.07 0-2.86zM5.41 20L4 18.59l7.72-7.72 1.47 1.35L5.41 20z\"/>\n",
              "  </svg>\n",
              "      </button>\n",
              "      \n",
              "  <style>\n",
              "    .colab-df-container {\n",
              "      display:flex;\n",
              "      flex-wrap:wrap;\n",
              "      gap: 12px;\n",
              "    }\n",
              "\n",
              "    .colab-df-convert {\n",
              "      background-color: #E8F0FE;\n",
              "      border: none;\n",
              "      border-radius: 50%;\n",
              "      cursor: pointer;\n",
              "      display: none;\n",
              "      fill: #1967D2;\n",
              "      height: 32px;\n",
              "      padding: 0 0 0 0;\n",
              "      width: 32px;\n",
              "    }\n",
              "\n",
              "    .colab-df-convert:hover {\n",
              "      background-color: #E2EBFA;\n",
              "      box-shadow: 0px 1px 2px rgba(60, 64, 67, 0.3), 0px 1px 3px 1px rgba(60, 64, 67, 0.15);\n",
              "      fill: #174EA6;\n",
              "    }\n",
              "\n",
              "    [theme=dark] .colab-df-convert {\n",
              "      background-color: #3B4455;\n",
              "      fill: #D2E3FC;\n",
              "    }\n",
              "\n",
              "    [theme=dark] .colab-df-convert:hover {\n",
              "      background-color: #434B5C;\n",
              "      box-shadow: 0px 1px 3px 1px rgba(0, 0, 0, 0.15);\n",
              "      filter: drop-shadow(0px 1px 2px rgba(0, 0, 0, 0.3));\n",
              "      fill: #FFFFFF;\n",
              "    }\n",
              "  </style>\n",
              "\n",
              "      <script>\n",
              "        const buttonEl =\n",
              "          document.querySelector('#df-d513bec1-12e8-4b9f-966e-d356c4067772 button.colab-df-convert');\n",
              "        buttonEl.style.display =\n",
              "          google.colab.kernel.accessAllowed ? 'block' : 'none';\n",
              "\n",
              "        async function convertToInteractive(key) {\n",
              "          const element = document.querySelector('#df-d513bec1-12e8-4b9f-966e-d356c4067772');\n",
              "          const dataTable =\n",
              "            await google.colab.kernel.invokeFunction('convertToInteractive',\n",
              "                                                     [key], {});\n",
              "          if (!dataTable) return;\n",
              "\n",
              "          const docLinkHtml = 'Like what you see? Visit the ' +\n",
              "            '<a target=\"_blank\" href=https://colab.research.google.com/notebooks/data_table.ipynb>data table notebook</a>'\n",
              "            + ' to learn more about interactive tables.';\n",
              "          element.innerHTML = '';\n",
              "          dataTable['output_type'] = 'display_data';\n",
              "          await google.colab.output.renderOutput(dataTable, element);\n",
              "          const docLink = document.createElement('div');\n",
              "          docLink.innerHTML = docLinkHtml;\n",
              "          element.appendChild(docLink);\n",
              "        }\n",
              "      </script>\n",
              "    </div>\n",
              "  </div>\n",
              "  "
            ]
          },
          "metadata": {},
          "execution_count": 6
        }
      ]
    },
    {
      "cell_type": "code",
      "execution_count": null,
      "metadata": {
        "id": "0l6OOqkzapCe",
        "outputId": "946b77b8-9c87-4265-a59c-6bee0c50d009",
        "colab": {
          "base_uri": "https://localhost:8080/",
          "height": 206
        }
      },
      "outputs": [
        {
          "output_type": "execute_result",
          "data": {
            "text/plain": [
              "   item_id  feature_category_id  feature_value_id\n",
              "0        2                   56               365\n",
              "1        2                   62               801\n",
              "2        2                   68               351\n",
              "3        2                   33               802\n",
              "4        2                   72                75"
            ],
            "text/html": [
              "\n",
              "  <div id=\"df-de56b96a-7bc6-4488-a202-624536592572\">\n",
              "    <div class=\"colab-df-container\">\n",
              "      <div>\n",
              "<style scoped>\n",
              "    .dataframe tbody tr th:only-of-type {\n",
              "        vertical-align: middle;\n",
              "    }\n",
              "\n",
              "    .dataframe tbody tr th {\n",
              "        vertical-align: top;\n",
              "    }\n",
              "\n",
              "    .dataframe thead th {\n",
              "        text-align: right;\n",
              "    }\n",
              "</style>\n",
              "<table border=\"1\" class=\"dataframe\">\n",
              "  <thead>\n",
              "    <tr style=\"text-align: right;\">\n",
              "      <th></th>\n",
              "      <th>item_id</th>\n",
              "      <th>feature_category_id</th>\n",
              "      <th>feature_value_id</th>\n",
              "    </tr>\n",
              "  </thead>\n",
              "  <tbody>\n",
              "    <tr>\n",
              "      <th>0</th>\n",
              "      <td>2</td>\n",
              "      <td>56</td>\n",
              "      <td>365</td>\n",
              "    </tr>\n",
              "    <tr>\n",
              "      <th>1</th>\n",
              "      <td>2</td>\n",
              "      <td>62</td>\n",
              "      <td>801</td>\n",
              "    </tr>\n",
              "    <tr>\n",
              "      <th>2</th>\n",
              "      <td>2</td>\n",
              "      <td>68</td>\n",
              "      <td>351</td>\n",
              "    </tr>\n",
              "    <tr>\n",
              "      <th>3</th>\n",
              "      <td>2</td>\n",
              "      <td>33</td>\n",
              "      <td>802</td>\n",
              "    </tr>\n",
              "    <tr>\n",
              "      <th>4</th>\n",
              "      <td>2</td>\n",
              "      <td>72</td>\n",
              "      <td>75</td>\n",
              "    </tr>\n",
              "  </tbody>\n",
              "</table>\n",
              "</div>\n",
              "      <button class=\"colab-df-convert\" onclick=\"convertToInteractive('df-de56b96a-7bc6-4488-a202-624536592572')\"\n",
              "              title=\"Convert this dataframe to an interactive table.\"\n",
              "              style=\"display:none;\">\n",
              "        \n",
              "  <svg xmlns=\"http://www.w3.org/2000/svg\" height=\"24px\"viewBox=\"0 0 24 24\"\n",
              "       width=\"24px\">\n",
              "    <path d=\"M0 0h24v24H0V0z\" fill=\"none\"/>\n",
              "    <path d=\"M18.56 5.44l.94 2.06.94-2.06 2.06-.94-2.06-.94-.94-2.06-.94 2.06-2.06.94zm-11 1L8.5 8.5l.94-2.06 2.06-.94-2.06-.94L8.5 2.5l-.94 2.06-2.06.94zm10 10l.94 2.06.94-2.06 2.06-.94-2.06-.94-.94-2.06-.94 2.06-2.06.94z\"/><path d=\"M17.41 7.96l-1.37-1.37c-.4-.4-.92-.59-1.43-.59-.52 0-1.04.2-1.43.59L10.3 9.45l-7.72 7.72c-.78.78-.78 2.05 0 2.83L4 21.41c.39.39.9.59 1.41.59.51 0 1.02-.2 1.41-.59l7.78-7.78 2.81-2.81c.8-.78.8-2.07 0-2.86zM5.41 20L4 18.59l7.72-7.72 1.47 1.35L5.41 20z\"/>\n",
              "  </svg>\n",
              "      </button>\n",
              "      \n",
              "  <style>\n",
              "    .colab-df-container {\n",
              "      display:flex;\n",
              "      flex-wrap:wrap;\n",
              "      gap: 12px;\n",
              "    }\n",
              "\n",
              "    .colab-df-convert {\n",
              "      background-color: #E8F0FE;\n",
              "      border: none;\n",
              "      border-radius: 50%;\n",
              "      cursor: pointer;\n",
              "      display: none;\n",
              "      fill: #1967D2;\n",
              "      height: 32px;\n",
              "      padding: 0 0 0 0;\n",
              "      width: 32px;\n",
              "    }\n",
              "\n",
              "    .colab-df-convert:hover {\n",
              "      background-color: #E2EBFA;\n",
              "      box-shadow: 0px 1px 2px rgba(60, 64, 67, 0.3), 0px 1px 3px 1px rgba(60, 64, 67, 0.15);\n",
              "      fill: #174EA6;\n",
              "    }\n",
              "\n",
              "    [theme=dark] .colab-df-convert {\n",
              "      background-color: #3B4455;\n",
              "      fill: #D2E3FC;\n",
              "    }\n",
              "\n",
              "    [theme=dark] .colab-df-convert:hover {\n",
              "      background-color: #434B5C;\n",
              "      box-shadow: 0px 1px 3px 1px rgba(0, 0, 0, 0.15);\n",
              "      filter: drop-shadow(0px 1px 2px rgba(0, 0, 0, 0.3));\n",
              "      fill: #FFFFFF;\n",
              "    }\n",
              "  </style>\n",
              "\n",
              "      <script>\n",
              "        const buttonEl =\n",
              "          document.querySelector('#df-de56b96a-7bc6-4488-a202-624536592572 button.colab-df-convert');\n",
              "        buttonEl.style.display =\n",
              "          google.colab.kernel.accessAllowed ? 'block' : 'none';\n",
              "\n",
              "        async function convertToInteractive(key) {\n",
              "          const element = document.querySelector('#df-de56b96a-7bc6-4488-a202-624536592572');\n",
              "          const dataTable =\n",
              "            await google.colab.kernel.invokeFunction('convertToInteractive',\n",
              "                                                     [key], {});\n",
              "          if (!dataTable) return;\n",
              "\n",
              "          const docLinkHtml = 'Like what you see? Visit the ' +\n",
              "            '<a target=\"_blank\" href=https://colab.research.google.com/notebooks/data_table.ipynb>data table notebook</a>'\n",
              "            + ' to learn more about interactive tables.';\n",
              "          element.innerHTML = '';\n",
              "          dataTable['output_type'] = 'display_data';\n",
              "          await google.colab.output.renderOutput(dataTable, element);\n",
              "          const docLink = document.createElement('div');\n",
              "          docLink.innerHTML = docLinkHtml;\n",
              "          element.appendChild(docLink);\n",
              "        }\n",
              "      </script>\n",
              "    </div>\n",
              "  </div>\n",
              "  "
            ]
          },
          "metadata": {},
          "execution_count": 7
        }
      ],
      "source": [
        "features.head(5)"
      ]
    },
    {
      "cell_type": "code",
      "source": [
        "features.iloc[[135]]"
      ],
      "metadata": {
        "id": "AmkypdbmmYju",
        "outputId": "ac15d993-5137-4abf-c8f4-48c488d59e01",
        "colab": {
          "base_uri": "https://localhost:8080/",
          "height": 81
        }
      },
      "execution_count": null,
      "outputs": [
        {
          "output_type": "execute_result",
          "data": {
            "text/plain": [
              "     item_id  feature_category_id  feature_value_id\n",
              "135       10                   72                75"
            ],
            "text/html": [
              "\n",
              "  <div id=\"df-6e989367-8c38-44ab-b1f0-fb3fba2fa247\">\n",
              "    <div class=\"colab-df-container\">\n",
              "      <div>\n",
              "<style scoped>\n",
              "    .dataframe tbody tr th:only-of-type {\n",
              "        vertical-align: middle;\n",
              "    }\n",
              "\n",
              "    .dataframe tbody tr th {\n",
              "        vertical-align: top;\n",
              "    }\n",
              "\n",
              "    .dataframe thead th {\n",
              "        text-align: right;\n",
              "    }\n",
              "</style>\n",
              "<table border=\"1\" class=\"dataframe\">\n",
              "  <thead>\n",
              "    <tr style=\"text-align: right;\">\n",
              "      <th></th>\n",
              "      <th>item_id</th>\n",
              "      <th>feature_category_id</th>\n",
              "      <th>feature_value_id</th>\n",
              "    </tr>\n",
              "  </thead>\n",
              "  <tbody>\n",
              "    <tr>\n",
              "      <th>135</th>\n",
              "      <td>10</td>\n",
              "      <td>72</td>\n",
              "      <td>75</td>\n",
              "    </tr>\n",
              "  </tbody>\n",
              "</table>\n",
              "</div>\n",
              "      <button class=\"colab-df-convert\" onclick=\"convertToInteractive('df-6e989367-8c38-44ab-b1f0-fb3fba2fa247')\"\n",
              "              title=\"Convert this dataframe to an interactive table.\"\n",
              "              style=\"display:none;\">\n",
              "        \n",
              "  <svg xmlns=\"http://www.w3.org/2000/svg\" height=\"24px\"viewBox=\"0 0 24 24\"\n",
              "       width=\"24px\">\n",
              "    <path d=\"M0 0h24v24H0V0z\" fill=\"none\"/>\n",
              "    <path d=\"M18.56 5.44l.94 2.06.94-2.06 2.06-.94-2.06-.94-.94-2.06-.94 2.06-2.06.94zm-11 1L8.5 8.5l.94-2.06 2.06-.94-2.06-.94L8.5 2.5l-.94 2.06-2.06.94zm10 10l.94 2.06.94-2.06 2.06-.94-2.06-.94-.94-2.06-.94 2.06-2.06.94z\"/><path d=\"M17.41 7.96l-1.37-1.37c-.4-.4-.92-.59-1.43-.59-.52 0-1.04.2-1.43.59L10.3 9.45l-7.72 7.72c-.78.78-.78 2.05 0 2.83L4 21.41c.39.39.9.59 1.41.59.51 0 1.02-.2 1.41-.59l7.78-7.78 2.81-2.81c.8-.78.8-2.07 0-2.86zM5.41 20L4 18.59l7.72-7.72 1.47 1.35L5.41 20z\"/>\n",
              "  </svg>\n",
              "      </button>\n",
              "      \n",
              "  <style>\n",
              "    .colab-df-container {\n",
              "      display:flex;\n",
              "      flex-wrap:wrap;\n",
              "      gap: 12px;\n",
              "    }\n",
              "\n",
              "    .colab-df-convert {\n",
              "      background-color: #E8F0FE;\n",
              "      border: none;\n",
              "      border-radius: 50%;\n",
              "      cursor: pointer;\n",
              "      display: none;\n",
              "      fill: #1967D2;\n",
              "      height: 32px;\n",
              "      padding: 0 0 0 0;\n",
              "      width: 32px;\n",
              "    }\n",
              "\n",
              "    .colab-df-convert:hover {\n",
              "      background-color: #E2EBFA;\n",
              "      box-shadow: 0px 1px 2px rgba(60, 64, 67, 0.3), 0px 1px 3px 1px rgba(60, 64, 67, 0.15);\n",
              "      fill: #174EA6;\n",
              "    }\n",
              "\n",
              "    [theme=dark] .colab-df-convert {\n",
              "      background-color: #3B4455;\n",
              "      fill: #D2E3FC;\n",
              "    }\n",
              "\n",
              "    [theme=dark] .colab-df-convert:hover {\n",
              "      background-color: #434B5C;\n",
              "      box-shadow: 0px 1px 3px 1px rgba(0, 0, 0, 0.15);\n",
              "      filter: drop-shadow(0px 1px 2px rgba(0, 0, 0, 0.3));\n",
              "      fill: #FFFFFF;\n",
              "    }\n",
              "  </style>\n",
              "\n",
              "      <script>\n",
              "        const buttonEl =\n",
              "          document.querySelector('#df-6e989367-8c38-44ab-b1f0-fb3fba2fa247 button.colab-df-convert');\n",
              "        buttonEl.style.display =\n",
              "          google.colab.kernel.accessAllowed ? 'block' : 'none';\n",
              "\n",
              "        async function convertToInteractive(key) {\n",
              "          const element = document.querySelector('#df-6e989367-8c38-44ab-b1f0-fb3fba2fa247');\n",
              "          const dataTable =\n",
              "            await google.colab.kernel.invokeFunction('convertToInteractive',\n",
              "                                                     [key], {});\n",
              "          if (!dataTable) return;\n",
              "\n",
              "          const docLinkHtml = 'Like what you see? Visit the ' +\n",
              "            '<a target=\"_blank\" href=https://colab.research.google.com/notebooks/data_table.ipynb>data table notebook</a>'\n",
              "            + ' to learn more about interactive tables.';\n",
              "          element.innerHTML = '';\n",
              "          dataTable['output_type'] = 'display_data';\n",
              "          await google.colab.output.renderOutput(dataTable, element);\n",
              "          const docLink = document.createElement('div');\n",
              "          docLink.innerHTML = docLinkHtml;\n",
              "          element.appendChild(docLink);\n",
              "        }\n",
              "      </script>\n",
              "    </div>\n",
              "  </div>\n",
              "  "
            ]
          },
          "metadata": {},
          "execution_count": 8
        }
      ]
    },
    {
      "cell_type": "code",
      "source": [
        "features.loc[features[\"item_id\"]== 10]"
      ],
      "metadata": {
        "id": "Sg_g4l8f7P9U",
        "outputId": "4f33663b-9e67-4303-b4ac-5b66546a3de1",
        "colab": {
          "base_uri": "https://localhost:8080/",
          "height": 520
        }
      },
      "execution_count": null,
      "outputs": [
        {
          "output_type": "execute_result",
          "data": {
            "text/plain": [
              "     item_id  feature_category_id  feature_value_id\n",
              "125       10                   56               365\n",
              "126       10                   15               451\n",
              "127       10                   63               816\n",
              "128       10                   12               410\n",
              "129       10                   30               564\n",
              "130       10                   61               706\n",
              "131       10                   50               128\n",
              "132       10                   69               639\n",
              "133       10                    7               798\n",
              "134       10                   30               482\n",
              "135       10                   72                75\n",
              "136       10                   62               801\n",
              "137       10                   68               531\n",
              "138       10                   21               353\n",
              "139       10                   47                96"
            ],
            "text/html": [
              "\n",
              "  <div id=\"df-89dcf793-249d-47ae-bb2a-8a3ac6c50efa\">\n",
              "    <div class=\"colab-df-container\">\n",
              "      <div>\n",
              "<style scoped>\n",
              "    .dataframe tbody tr th:only-of-type {\n",
              "        vertical-align: middle;\n",
              "    }\n",
              "\n",
              "    .dataframe tbody tr th {\n",
              "        vertical-align: top;\n",
              "    }\n",
              "\n",
              "    .dataframe thead th {\n",
              "        text-align: right;\n",
              "    }\n",
              "</style>\n",
              "<table border=\"1\" class=\"dataframe\">\n",
              "  <thead>\n",
              "    <tr style=\"text-align: right;\">\n",
              "      <th></th>\n",
              "      <th>item_id</th>\n",
              "      <th>feature_category_id</th>\n",
              "      <th>feature_value_id</th>\n",
              "    </tr>\n",
              "  </thead>\n",
              "  <tbody>\n",
              "    <tr>\n",
              "      <th>125</th>\n",
              "      <td>10</td>\n",
              "      <td>56</td>\n",
              "      <td>365</td>\n",
              "    </tr>\n",
              "    <tr>\n",
              "      <th>126</th>\n",
              "      <td>10</td>\n",
              "      <td>15</td>\n",
              "      <td>451</td>\n",
              "    </tr>\n",
              "    <tr>\n",
              "      <th>127</th>\n",
              "      <td>10</td>\n",
              "      <td>63</td>\n",
              "      <td>816</td>\n",
              "    </tr>\n",
              "    <tr>\n",
              "      <th>128</th>\n",
              "      <td>10</td>\n",
              "      <td>12</td>\n",
              "      <td>410</td>\n",
              "    </tr>\n",
              "    <tr>\n",
              "      <th>129</th>\n",
              "      <td>10</td>\n",
              "      <td>30</td>\n",
              "      <td>564</td>\n",
              "    </tr>\n",
              "    <tr>\n",
              "      <th>130</th>\n",
              "      <td>10</td>\n",
              "      <td>61</td>\n",
              "      <td>706</td>\n",
              "    </tr>\n",
              "    <tr>\n",
              "      <th>131</th>\n",
              "      <td>10</td>\n",
              "      <td>50</td>\n",
              "      <td>128</td>\n",
              "    </tr>\n",
              "    <tr>\n",
              "      <th>132</th>\n",
              "      <td>10</td>\n",
              "      <td>69</td>\n",
              "      <td>639</td>\n",
              "    </tr>\n",
              "    <tr>\n",
              "      <th>133</th>\n",
              "      <td>10</td>\n",
              "      <td>7</td>\n",
              "      <td>798</td>\n",
              "    </tr>\n",
              "    <tr>\n",
              "      <th>134</th>\n",
              "      <td>10</td>\n",
              "      <td>30</td>\n",
              "      <td>482</td>\n",
              "    </tr>\n",
              "    <tr>\n",
              "      <th>135</th>\n",
              "      <td>10</td>\n",
              "      <td>72</td>\n",
              "      <td>75</td>\n",
              "    </tr>\n",
              "    <tr>\n",
              "      <th>136</th>\n",
              "      <td>10</td>\n",
              "      <td>62</td>\n",
              "      <td>801</td>\n",
              "    </tr>\n",
              "    <tr>\n",
              "      <th>137</th>\n",
              "      <td>10</td>\n",
              "      <td>68</td>\n",
              "      <td>531</td>\n",
              "    </tr>\n",
              "    <tr>\n",
              "      <th>138</th>\n",
              "      <td>10</td>\n",
              "      <td>21</td>\n",
              "      <td>353</td>\n",
              "    </tr>\n",
              "    <tr>\n",
              "      <th>139</th>\n",
              "      <td>10</td>\n",
              "      <td>47</td>\n",
              "      <td>96</td>\n",
              "    </tr>\n",
              "  </tbody>\n",
              "</table>\n",
              "</div>\n",
              "      <button class=\"colab-df-convert\" onclick=\"convertToInteractive('df-89dcf793-249d-47ae-bb2a-8a3ac6c50efa')\"\n",
              "              title=\"Convert this dataframe to an interactive table.\"\n",
              "              style=\"display:none;\">\n",
              "        \n",
              "  <svg xmlns=\"http://www.w3.org/2000/svg\" height=\"24px\"viewBox=\"0 0 24 24\"\n",
              "       width=\"24px\">\n",
              "    <path d=\"M0 0h24v24H0V0z\" fill=\"none\"/>\n",
              "    <path d=\"M18.56 5.44l.94 2.06.94-2.06 2.06-.94-2.06-.94-.94-2.06-.94 2.06-2.06.94zm-11 1L8.5 8.5l.94-2.06 2.06-.94-2.06-.94L8.5 2.5l-.94 2.06-2.06.94zm10 10l.94 2.06.94-2.06 2.06-.94-2.06-.94-.94-2.06-.94 2.06-2.06.94z\"/><path d=\"M17.41 7.96l-1.37-1.37c-.4-.4-.92-.59-1.43-.59-.52 0-1.04.2-1.43.59L10.3 9.45l-7.72 7.72c-.78.78-.78 2.05 0 2.83L4 21.41c.39.39.9.59 1.41.59.51 0 1.02-.2 1.41-.59l7.78-7.78 2.81-2.81c.8-.78.8-2.07 0-2.86zM5.41 20L4 18.59l7.72-7.72 1.47 1.35L5.41 20z\"/>\n",
              "  </svg>\n",
              "      </button>\n",
              "      \n",
              "  <style>\n",
              "    .colab-df-container {\n",
              "      display:flex;\n",
              "      flex-wrap:wrap;\n",
              "      gap: 12px;\n",
              "    }\n",
              "\n",
              "    .colab-df-convert {\n",
              "      background-color: #E8F0FE;\n",
              "      border: none;\n",
              "      border-radius: 50%;\n",
              "      cursor: pointer;\n",
              "      display: none;\n",
              "      fill: #1967D2;\n",
              "      height: 32px;\n",
              "      padding: 0 0 0 0;\n",
              "      width: 32px;\n",
              "    }\n",
              "\n",
              "    .colab-df-convert:hover {\n",
              "      background-color: #E2EBFA;\n",
              "      box-shadow: 0px 1px 2px rgba(60, 64, 67, 0.3), 0px 1px 3px 1px rgba(60, 64, 67, 0.15);\n",
              "      fill: #174EA6;\n",
              "    }\n",
              "\n",
              "    [theme=dark] .colab-df-convert {\n",
              "      background-color: #3B4455;\n",
              "      fill: #D2E3FC;\n",
              "    }\n",
              "\n",
              "    [theme=dark] .colab-df-convert:hover {\n",
              "      background-color: #434B5C;\n",
              "      box-shadow: 0px 1px 3px 1px rgba(0, 0, 0, 0.15);\n",
              "      filter: drop-shadow(0px 1px 2px rgba(0, 0, 0, 0.3));\n",
              "      fill: #FFFFFF;\n",
              "    }\n",
              "  </style>\n",
              "\n",
              "      <script>\n",
              "        const buttonEl =\n",
              "          document.querySelector('#df-89dcf793-249d-47ae-bb2a-8a3ac6c50efa button.colab-df-convert');\n",
              "        buttonEl.style.display =\n",
              "          google.colab.kernel.accessAllowed ? 'block' : 'none';\n",
              "\n",
              "        async function convertToInteractive(key) {\n",
              "          const element = document.querySelector('#df-89dcf793-249d-47ae-bb2a-8a3ac6c50efa');\n",
              "          const dataTable =\n",
              "            await google.colab.kernel.invokeFunction('convertToInteractive',\n",
              "                                                     [key], {});\n",
              "          if (!dataTable) return;\n",
              "\n",
              "          const docLinkHtml = 'Like what you see? Visit the ' +\n",
              "            '<a target=\"_blank\" href=https://colab.research.google.com/notebooks/data_table.ipynb>data table notebook</a>'\n",
              "            + ' to learn more about interactive tables.';\n",
              "          element.innerHTML = '';\n",
              "          dataTable['output_type'] = 'display_data';\n",
              "          await google.colab.output.renderOutput(dataTable, element);\n",
              "          const docLink = document.createElement('div');\n",
              "          docLink.innerHTML = docLinkHtml;\n",
              "          element.appendChild(docLink);\n",
              "        }\n",
              "      </script>\n",
              "    </div>\n",
              "  </div>\n",
              "  "
            ]
          },
          "metadata": {},
          "execution_count": 9
        }
      ]
    },
    {
      "cell_type": "markdown",
      "source": [
        "Get the items with duplicated category ids "
      ],
      "metadata": {
        "id": "0aV5WegnpxR4"
      }
    },
    {
      "cell_type": "code",
      "source": [
        "gp = features.groupby([\"item_id\", \"feature_category_id\"])\n",
        "df = gp.count()\n",
        "df[df[\"feature_value_id\"] != 1]"
      ],
      "metadata": {
        "id": "27IzqN4N-0kk",
        "outputId": "cfdfa8b9-7d17-4324-e634-4148dc470a00",
        "colab": {
          "base_uri": "https://localhost:8080/",
          "height": 455
        }
      },
      "execution_count": null,
      "outputs": [
        {
          "output_type": "execute_result",
          "data": {
            "text/plain": [
              "                             feature_value_id\n",
              "item_id feature_category_id                  \n",
              "10      30                                  2\n",
              "11      30                                  3\n",
              "18      30                                  4\n",
              "30      4                                   3\n",
              "35      30                                  2\n",
              "...                                       ...\n",
              "28125   30                                  3\n",
              "28126   30                                  3\n",
              "28133   28                                  2\n",
              "        30                                  3\n",
              "28135   30                                  3\n",
              "\n",
              "[5055 rows x 1 columns]"
            ],
            "text/html": [
              "\n",
              "  <div id=\"df-4dadd18b-7f6f-4511-868a-b9e9e9d6ad4e\">\n",
              "    <div class=\"colab-df-container\">\n",
              "      <div>\n",
              "<style scoped>\n",
              "    .dataframe tbody tr th:only-of-type {\n",
              "        vertical-align: middle;\n",
              "    }\n",
              "\n",
              "    .dataframe tbody tr th {\n",
              "        vertical-align: top;\n",
              "    }\n",
              "\n",
              "    .dataframe thead th {\n",
              "        text-align: right;\n",
              "    }\n",
              "</style>\n",
              "<table border=\"1\" class=\"dataframe\">\n",
              "  <thead>\n",
              "    <tr style=\"text-align: right;\">\n",
              "      <th></th>\n",
              "      <th></th>\n",
              "      <th>feature_value_id</th>\n",
              "    </tr>\n",
              "    <tr>\n",
              "      <th>item_id</th>\n",
              "      <th>feature_category_id</th>\n",
              "      <th></th>\n",
              "    </tr>\n",
              "  </thead>\n",
              "  <tbody>\n",
              "    <tr>\n",
              "      <th>10</th>\n",
              "      <th>30</th>\n",
              "      <td>2</td>\n",
              "    </tr>\n",
              "    <tr>\n",
              "      <th>11</th>\n",
              "      <th>30</th>\n",
              "      <td>3</td>\n",
              "    </tr>\n",
              "    <tr>\n",
              "      <th>18</th>\n",
              "      <th>30</th>\n",
              "      <td>4</td>\n",
              "    </tr>\n",
              "    <tr>\n",
              "      <th>30</th>\n",
              "      <th>4</th>\n",
              "      <td>3</td>\n",
              "    </tr>\n",
              "    <tr>\n",
              "      <th>35</th>\n",
              "      <th>30</th>\n",
              "      <td>2</td>\n",
              "    </tr>\n",
              "    <tr>\n",
              "      <th>...</th>\n",
              "      <th>...</th>\n",
              "      <td>...</td>\n",
              "    </tr>\n",
              "    <tr>\n",
              "      <th>28125</th>\n",
              "      <th>30</th>\n",
              "      <td>3</td>\n",
              "    </tr>\n",
              "    <tr>\n",
              "      <th>28126</th>\n",
              "      <th>30</th>\n",
              "      <td>3</td>\n",
              "    </tr>\n",
              "    <tr>\n",
              "      <th rowspan=\"2\" valign=\"top\">28133</th>\n",
              "      <th>28</th>\n",
              "      <td>2</td>\n",
              "    </tr>\n",
              "    <tr>\n",
              "      <th>30</th>\n",
              "      <td>3</td>\n",
              "    </tr>\n",
              "    <tr>\n",
              "      <th>28135</th>\n",
              "      <th>30</th>\n",
              "      <td>3</td>\n",
              "    </tr>\n",
              "  </tbody>\n",
              "</table>\n",
              "<p>5055 rows × 1 columns</p>\n",
              "</div>\n",
              "      <button class=\"colab-df-convert\" onclick=\"convertToInteractive('df-4dadd18b-7f6f-4511-868a-b9e9e9d6ad4e')\"\n",
              "              title=\"Convert this dataframe to an interactive table.\"\n",
              "              style=\"display:none;\">\n",
              "        \n",
              "  <svg xmlns=\"http://www.w3.org/2000/svg\" height=\"24px\"viewBox=\"0 0 24 24\"\n",
              "       width=\"24px\">\n",
              "    <path d=\"M0 0h24v24H0V0z\" fill=\"none\"/>\n",
              "    <path d=\"M18.56 5.44l.94 2.06.94-2.06 2.06-.94-2.06-.94-.94-2.06-.94 2.06-2.06.94zm-11 1L8.5 8.5l.94-2.06 2.06-.94-2.06-.94L8.5 2.5l-.94 2.06-2.06.94zm10 10l.94 2.06.94-2.06 2.06-.94-2.06-.94-.94-2.06-.94 2.06-2.06.94z\"/><path d=\"M17.41 7.96l-1.37-1.37c-.4-.4-.92-.59-1.43-.59-.52 0-1.04.2-1.43.59L10.3 9.45l-7.72 7.72c-.78.78-.78 2.05 0 2.83L4 21.41c.39.39.9.59 1.41.59.51 0 1.02-.2 1.41-.59l7.78-7.78 2.81-2.81c.8-.78.8-2.07 0-2.86zM5.41 20L4 18.59l7.72-7.72 1.47 1.35L5.41 20z\"/>\n",
              "  </svg>\n",
              "      </button>\n",
              "      \n",
              "  <style>\n",
              "    .colab-df-container {\n",
              "      display:flex;\n",
              "      flex-wrap:wrap;\n",
              "      gap: 12px;\n",
              "    }\n",
              "\n",
              "    .colab-df-convert {\n",
              "      background-color: #E8F0FE;\n",
              "      border: none;\n",
              "      border-radius: 50%;\n",
              "      cursor: pointer;\n",
              "      display: none;\n",
              "      fill: #1967D2;\n",
              "      height: 32px;\n",
              "      padding: 0 0 0 0;\n",
              "      width: 32px;\n",
              "    }\n",
              "\n",
              "    .colab-df-convert:hover {\n",
              "      background-color: #E2EBFA;\n",
              "      box-shadow: 0px 1px 2px rgba(60, 64, 67, 0.3), 0px 1px 3px 1px rgba(60, 64, 67, 0.15);\n",
              "      fill: #174EA6;\n",
              "    }\n",
              "\n",
              "    [theme=dark] .colab-df-convert {\n",
              "      background-color: #3B4455;\n",
              "      fill: #D2E3FC;\n",
              "    }\n",
              "\n",
              "    [theme=dark] .colab-df-convert:hover {\n",
              "      background-color: #434B5C;\n",
              "      box-shadow: 0px 1px 3px 1px rgba(0, 0, 0, 0.15);\n",
              "      filter: drop-shadow(0px 1px 2px rgba(0, 0, 0, 0.3));\n",
              "      fill: #FFFFFF;\n",
              "    }\n",
              "  </style>\n",
              "\n",
              "      <script>\n",
              "        const buttonEl =\n",
              "          document.querySelector('#df-4dadd18b-7f6f-4511-868a-b9e9e9d6ad4e button.colab-df-convert');\n",
              "        buttonEl.style.display =\n",
              "          google.colab.kernel.accessAllowed ? 'block' : 'none';\n",
              "\n",
              "        async function convertToInteractive(key) {\n",
              "          const element = document.querySelector('#df-4dadd18b-7f6f-4511-868a-b9e9e9d6ad4e');\n",
              "          const dataTable =\n",
              "            await google.colab.kernel.invokeFunction('convertToInteractive',\n",
              "                                                     [key], {});\n",
              "          if (!dataTable) return;\n",
              "\n",
              "          const docLinkHtml = 'Like what you see? Visit the ' +\n",
              "            '<a target=\"_blank\" href=https://colab.research.google.com/notebooks/data_table.ipynb>data table notebook</a>'\n",
              "            + ' to learn more about interactive tables.';\n",
              "          element.innerHTML = '';\n",
              "          dataTable['output_type'] = 'display_data';\n",
              "          await google.colab.output.renderOutput(dataTable, element);\n",
              "          const docLink = document.createElement('div');\n",
              "          docLink.innerHTML = docLinkHtml;\n",
              "          element.appendChild(docLink);\n",
              "        }\n",
              "      </script>\n",
              "    </div>\n",
              "  </div>\n",
              "  "
            ]
          },
          "metadata": {},
          "execution_count": 10
        }
      ]
    },
    {
      "cell_type": "code",
      "source": [
        "features[\"item_id\"].describe()"
      ],
      "metadata": {
        "id": "xbyfCcGeeipK",
        "outputId": "8a9030da-7485-4a3a-9aca-2caab6580563",
        "colab": {
          "base_uri": "https://localhost:8080/"
        }
      },
      "execution_count": null,
      "outputs": [
        {
          "output_type": "execute_result",
          "data": {
            "text/plain": [
              "count    471751.000000\n",
              "mean      14058.539477\n",
              "std        8107.465455\n",
              "min           2.000000\n",
              "25%        7060.000000\n",
              "50%       14045.000000\n",
              "75%       21063.000000\n",
              "max       28143.000000\n",
              "Name: item_id, dtype: float64"
            ]
          },
          "metadata": {},
          "execution_count": 11
        }
      ]
    },
    {
      "cell_type": "code",
      "source": [
        "features[\"feature_category_id\"].max()"
      ],
      "metadata": {
        "colab": {
          "base_uri": "https://localhost:8080/"
        },
        "id": "v5tveV72quSq",
        "outputId": "1c757a44-905f-4c79-ba2d-584310ee6251"
      },
      "execution_count": null,
      "outputs": [
        {
          "output_type": "execute_result",
          "data": {
            "text/plain": [
              "73"
            ]
          },
          "metadata": {},
          "execution_count": 12
        }
      ]
    },
    {
      "cell_type": "markdown",
      "source": [
        "**Base Line algo **"
      ],
      "metadata": {
        "id": "B2fXN28fvDGi"
      }
    },
    {
      "cell_type": "code",
      "source": [
        "import random\n",
        "\n",
        "def create_item_suggestions(df_session):\n",
        "  df_current = pd.DataFrame(columns=['session_id', 'item_id', 'rank'])\n",
        "  ser_i = pd.Series({'session_id':df_session.iloc[[-1]]['session_id'].values[0],\n",
        "                    'item_id': df_session.iloc[[-1]]['item_id'].values[0],\n",
        "                    'rank':1})\n",
        "  df_current = df_current.append(ser_i, ignore_index=True)\n",
        "  for i in range(2, 100):\n",
        "    rn = random.randint(0, 4490)\n",
        "    ser_i = pd.Series({'session_id':df_session.iloc[[-1]]['session_id'].values[0],\n",
        "                    'item_id': items.iloc[[rn]]['item_id'].values[0],\n",
        "                    'rank':i})\n",
        "    df_current = df_current.append(ser_i, ignore_index=True)\n",
        "    \n",
        "  return df_current"
      ],
      "metadata": {
        "id": "NS1mXwXNLDwX"
      },
      "execution_count": null,
      "outputs": []
    },
    {
      "cell_type": "code",
      "execution_count": null,
      "metadata": {
        "id": "_tjZ_BfIapCk"
      },
      "outputs": [],
      "source": [
        "def create_submission_file(file_name, df_sessions):\n",
        "  df_all = pd.DataFrame(columns=['session_id', 'item_id', 'rank'])\n",
        "  df_ses = df_sessions.groupby(\"session_id\")\n",
        "  for sess in df_ses.indices:\n",
        "    df = create_item_suggestions(df_ses.get_group(sess))\n",
        "    df_all = df_all.append(df)\n",
        "    \n",
        "  df_all.to_csv(file_name, index=False)"
      ]
    },
    {
      "cell_type": "code",
      "source": [
        "create_submission_file(\"test_df.csv\", test_leaderboard_sessions)"
      ],
      "metadata": {
        "id": "ZwetyO3hGPFo"
      },
      "execution_count": null,
      "outputs": []
    },
    {
      "cell_type": "markdown",
      "source": [
        "**Feature Extraction**"
      ],
      "metadata": {
        "id": "5ik3hZ-HuIzY"
      }
    },
    {
      "cell_type": "markdown",
      "source": [
        "Get one DataFrame with itemid the feature category id (as list) and the feature value id (as list)"
      ],
      "metadata": {
        "id": "hQeTHYXMuUJq"
      }
    },
    {
      "cell_type": "code",
      "source": [
        "itemGroupedDataframe=features.groupby(\"item_id\", as_index=False).agg({'feature_category_id':lambda x: list(x), 'feature_value_id':lambda x: list(x)})\n",
        "itemGroupedDataframe"
      ],
      "metadata": {
        "id": "Da44342YhV0B",
        "colab": {
          "base_uri": "https://localhost:8080/",
          "height": 424
        },
        "outputId": "a4abe5d7-4eb8-4e2c-e585-8d02788f083a"
      },
      "execution_count": null,
      "outputs": [
        {
          "output_type": "execute_result",
          "data": {
            "text/plain": [
              "       item_id                                feature_category_id  \\\n",
              "0            2  [56, 62, 68, 33, 72, 29, 16, 50, 61, 53, 7, 69...   \n",
              "1            3  [56, 69, 68, 17, 32, 11, 45, 7, 19, 46, 61, 73...   \n",
              "2            4  [55, 17, 5, 69, 18, 68, 50, 73, 65, 7, 59, 47,...   \n",
              "3            7  [56, 50, 63, 41, 26, 32, 61, 68, 69, 7, 15, 44...   \n",
              "4            8  [56, 55, 7, 69, 72, 3, 45, 18, 59, 73, 5, 61, ...   \n",
              "...        ...                                                ...   \n",
              "23686    28139  [73, 50, 68, 3, 41, 17, 45, 7, 44, 46, 26, 5, ...   \n",
              "23687    28140  [37, 67, 23, 39, 2, 47, 56, 61, 36, 31, 64, 68...   \n",
              "23688    28141  [56, 5, 48, 72, 4, 68, 46, 3, 73, 17, 47, 26, ...   \n",
              "23689    28142  [56, 20, 7, 73, 32, 65, 69, 68, 19, 72, 26, 41...   \n",
              "23690    28143  [56, 19, 34, 26, 32, 18, 69, 59, 7, 50, 61, 72...   \n",
              "\n",
              "                                        feature_value_id  \n",
              "0      [365, 801, 351, 802, 75, 123, 38, 76, 462, 6, ...  \n",
              "1      [365, 592, 14, 378, 902, 859, 559, 452, 254, 8...  \n",
              "2      [267, 378, 605, 538, 289, 373, 317, 544, 521, ...  \n",
              "3      [153, 708, 816, 759, 268, 902, 706, 739, 592, ...  \n",
              "4      [365, 267, 798, 592, 75, 793, 559, 817, 856, 5...  \n",
              "...                                                  ...  \n",
              "23686  [544, 901, 106, 793, 145, 378, 559, 798, 621, ...  \n",
              "23687  [469, 349, 510, 731, 53, 720, 365, 706, 678, 7...  \n",
              "23688  [365, 605, 354, 75, 719, 379, 825, 889, 544, 3...  \n",
              "23689  [153, 342, 619, 91, 522, 610, 740, 895, 232, 7...  \n",
              "23690  [365, 765, 275, 268, 286, 817, 499, 180, 798, ...  \n",
              "\n",
              "[23691 rows x 3 columns]"
            ],
            "text/html": [
              "\n",
              "  <div id=\"df-7c1d69f4-a215-4744-b704-2ea2abbbd0b6\">\n",
              "    <div class=\"colab-df-container\">\n",
              "      <div>\n",
              "<style scoped>\n",
              "    .dataframe tbody tr th:only-of-type {\n",
              "        vertical-align: middle;\n",
              "    }\n",
              "\n",
              "    .dataframe tbody tr th {\n",
              "        vertical-align: top;\n",
              "    }\n",
              "\n",
              "    .dataframe thead th {\n",
              "        text-align: right;\n",
              "    }\n",
              "</style>\n",
              "<table border=\"1\" class=\"dataframe\">\n",
              "  <thead>\n",
              "    <tr style=\"text-align: right;\">\n",
              "      <th></th>\n",
              "      <th>item_id</th>\n",
              "      <th>feature_category_id</th>\n",
              "      <th>feature_value_id</th>\n",
              "    </tr>\n",
              "  </thead>\n",
              "  <tbody>\n",
              "    <tr>\n",
              "      <th>0</th>\n",
              "      <td>2</td>\n",
              "      <td>[56, 62, 68, 33, 72, 29, 16, 50, 61, 53, 7, 69...</td>\n",
              "      <td>[365, 801, 351, 802, 75, 123, 38, 76, 462, 6, ...</td>\n",
              "    </tr>\n",
              "    <tr>\n",
              "      <th>1</th>\n",
              "      <td>3</td>\n",
              "      <td>[56, 69, 68, 17, 32, 11, 45, 7, 19, 46, 61, 73...</td>\n",
              "      <td>[365, 592, 14, 378, 902, 859, 559, 452, 254, 8...</td>\n",
              "    </tr>\n",
              "    <tr>\n",
              "      <th>2</th>\n",
              "      <td>4</td>\n",
              "      <td>[55, 17, 5, 69, 18, 68, 50, 73, 65, 7, 59, 47,...</td>\n",
              "      <td>[267, 378, 605, 538, 289, 373, 317, 544, 521, ...</td>\n",
              "    </tr>\n",
              "    <tr>\n",
              "      <th>3</th>\n",
              "      <td>7</td>\n",
              "      <td>[56, 50, 63, 41, 26, 32, 61, 68, 69, 7, 15, 44...</td>\n",
              "      <td>[153, 708, 816, 759, 268, 902, 706, 739, 592, ...</td>\n",
              "    </tr>\n",
              "    <tr>\n",
              "      <th>4</th>\n",
              "      <td>8</td>\n",
              "      <td>[56, 55, 7, 69, 72, 3, 45, 18, 59, 73, 5, 61, ...</td>\n",
              "      <td>[365, 267, 798, 592, 75, 793, 559, 817, 856, 5...</td>\n",
              "    </tr>\n",
              "    <tr>\n",
              "      <th>...</th>\n",
              "      <td>...</td>\n",
              "      <td>...</td>\n",
              "      <td>...</td>\n",
              "    </tr>\n",
              "    <tr>\n",
              "      <th>23686</th>\n",
              "      <td>28139</td>\n",
              "      <td>[73, 50, 68, 3, 41, 17, 45, 7, 44, 46, 26, 5, ...</td>\n",
              "      <td>[544, 901, 106, 793, 145, 378, 559, 798, 621, ...</td>\n",
              "    </tr>\n",
              "    <tr>\n",
              "      <th>23687</th>\n",
              "      <td>28140</td>\n",
              "      <td>[37, 67, 23, 39, 2, 47, 56, 61, 36, 31, 64, 68...</td>\n",
              "      <td>[469, 349, 510, 731, 53, 720, 365, 706, 678, 7...</td>\n",
              "    </tr>\n",
              "    <tr>\n",
              "      <th>23688</th>\n",
              "      <td>28141</td>\n",
              "      <td>[56, 5, 48, 72, 4, 68, 46, 3, 73, 17, 47, 26, ...</td>\n",
              "      <td>[365, 605, 354, 75, 719, 379, 825, 889, 544, 3...</td>\n",
              "    </tr>\n",
              "    <tr>\n",
              "      <th>23689</th>\n",
              "      <td>28142</td>\n",
              "      <td>[56, 20, 7, 73, 32, 65, 69, 68, 19, 72, 26, 41...</td>\n",
              "      <td>[153, 342, 619, 91, 522, 610, 740, 895, 232, 7...</td>\n",
              "    </tr>\n",
              "    <tr>\n",
              "      <th>23690</th>\n",
              "      <td>28143</td>\n",
              "      <td>[56, 19, 34, 26, 32, 18, 69, 59, 7, 50, 61, 72...</td>\n",
              "      <td>[365, 765, 275, 268, 286, 817, 499, 180, 798, ...</td>\n",
              "    </tr>\n",
              "  </tbody>\n",
              "</table>\n",
              "<p>23691 rows × 3 columns</p>\n",
              "</div>\n",
              "      <button class=\"colab-df-convert\" onclick=\"convertToInteractive('df-7c1d69f4-a215-4744-b704-2ea2abbbd0b6')\"\n",
              "              title=\"Convert this dataframe to an interactive table.\"\n",
              "              style=\"display:none;\">\n",
              "        \n",
              "  <svg xmlns=\"http://www.w3.org/2000/svg\" height=\"24px\"viewBox=\"0 0 24 24\"\n",
              "       width=\"24px\">\n",
              "    <path d=\"M0 0h24v24H0V0z\" fill=\"none\"/>\n",
              "    <path d=\"M18.56 5.44l.94 2.06.94-2.06 2.06-.94-2.06-.94-.94-2.06-.94 2.06-2.06.94zm-11 1L8.5 8.5l.94-2.06 2.06-.94-2.06-.94L8.5 2.5l-.94 2.06-2.06.94zm10 10l.94 2.06.94-2.06 2.06-.94-2.06-.94-.94-2.06-.94 2.06-2.06.94z\"/><path d=\"M17.41 7.96l-1.37-1.37c-.4-.4-.92-.59-1.43-.59-.52 0-1.04.2-1.43.59L10.3 9.45l-7.72 7.72c-.78.78-.78 2.05 0 2.83L4 21.41c.39.39.9.59 1.41.59.51 0 1.02-.2 1.41-.59l7.78-7.78 2.81-2.81c.8-.78.8-2.07 0-2.86zM5.41 20L4 18.59l7.72-7.72 1.47 1.35L5.41 20z\"/>\n",
              "  </svg>\n",
              "      </button>\n",
              "      \n",
              "  <style>\n",
              "    .colab-df-container {\n",
              "      display:flex;\n",
              "      flex-wrap:wrap;\n",
              "      gap: 12px;\n",
              "    }\n",
              "\n",
              "    .colab-df-convert {\n",
              "      background-color: #E8F0FE;\n",
              "      border: none;\n",
              "      border-radius: 50%;\n",
              "      cursor: pointer;\n",
              "      display: none;\n",
              "      fill: #1967D2;\n",
              "      height: 32px;\n",
              "      padding: 0 0 0 0;\n",
              "      width: 32px;\n",
              "    }\n",
              "\n",
              "    .colab-df-convert:hover {\n",
              "      background-color: #E2EBFA;\n",
              "      box-shadow: 0px 1px 2px rgba(60, 64, 67, 0.3), 0px 1px 3px 1px rgba(60, 64, 67, 0.15);\n",
              "      fill: #174EA6;\n",
              "    }\n",
              "\n",
              "    [theme=dark] .colab-df-convert {\n",
              "      background-color: #3B4455;\n",
              "      fill: #D2E3FC;\n",
              "    }\n",
              "\n",
              "    [theme=dark] .colab-df-convert:hover {\n",
              "      background-color: #434B5C;\n",
              "      box-shadow: 0px 1px 3px 1px rgba(0, 0, 0, 0.15);\n",
              "      filter: drop-shadow(0px 1px 2px rgba(0, 0, 0, 0.3));\n",
              "      fill: #FFFFFF;\n",
              "    }\n",
              "  </style>\n",
              "\n",
              "      <script>\n",
              "        const buttonEl =\n",
              "          document.querySelector('#df-7c1d69f4-a215-4744-b704-2ea2abbbd0b6 button.colab-df-convert');\n",
              "        buttonEl.style.display =\n",
              "          google.colab.kernel.accessAllowed ? 'block' : 'none';\n",
              "\n",
              "        async function convertToInteractive(key) {\n",
              "          const element = document.querySelector('#df-7c1d69f4-a215-4744-b704-2ea2abbbd0b6');\n",
              "          const dataTable =\n",
              "            await google.colab.kernel.invokeFunction('convertToInteractive',\n",
              "                                                     [key], {});\n",
              "          if (!dataTable) return;\n",
              "\n",
              "          const docLinkHtml = 'Like what you see? Visit the ' +\n",
              "            '<a target=\"_blank\" href=https://colab.research.google.com/notebooks/data_table.ipynb>data table notebook</a>'\n",
              "            + ' to learn more about interactive tables.';\n",
              "          element.innerHTML = '';\n",
              "          dataTable['output_type'] = 'display_data';\n",
              "          await google.colab.output.renderOutput(dataTable, element);\n",
              "          const docLink = document.createElement('div');\n",
              "          docLink.innerHTML = docLinkHtml;\n",
              "          element.appendChild(docLink);\n",
              "        }\n",
              "      </script>\n",
              "    </div>\n",
              "  </div>\n",
              "  "
            ]
          },
          "metadata": {},
          "execution_count": 15
        }
      ]
    },
    {
      "cell_type": "code",
      "source": [
        "itemGroupedDataframe.columns"
      ],
      "metadata": {
        "colab": {
          "base_uri": "https://localhost:8080/"
        },
        "id": "gohoZclxv46I",
        "outputId": "e3120f7a-5e36-4825-ac03-c33a3cbe334c"
      },
      "execution_count": null,
      "outputs": [
        {
          "output_type": "execute_result",
          "data": {
            "text/plain": [
              "Index(['item_id', 'feature_category_id', 'feature_value_id'], dtype='object')"
            ]
          },
          "metadata": {},
          "execution_count": 16
        }
      ]
    },
    {
      "cell_type": "markdown",
      "source": [
        "Check if we can interate to all columns"
      ],
      "metadata": {
        "id": "gnXgk3D4u3CM"
      }
    },
    {
      "cell_type": "markdown",
      "source": [
        "Create a item class with item id and a dict of category id and value"
      ],
      "metadata": {
        "id": "PGRJAucPzTXl"
      }
    },
    {
      "cell_type": "code",
      "source": [
        "class Item:\n",
        "  id = 0\n",
        "  categorydict = dict()\n",
        "  \n",
        "  def __init__(self, id, category_count):\n",
        "    self.id = id\n",
        "    for i in range(1, category_count + 1):\n",
        "      self.categorydict[i] = 0;\n",
        "\n",
        "  def addToDict(self, key, value):\n",
        "    self.categorydict[key] = self.categorydict.get(key, 0) + value\n",
        "  "
      ],
      "metadata": {
        "id": "NACC5q0VzTKl"
      },
      "execution_count": null,
      "outputs": []
    },
    {
      "cell_type": "markdown",
      "source": [
        "Get the category count"
      ],
      "metadata": {
        "id": "-5wLQMfU3b1_"
      }
    },
    {
      "cell_type": "code",
      "source": [
        "categoryCount = features[\"feature_category_id\"].max()\n",
        "categoryCount"
      ],
      "metadata": {
        "id": "LvGdTkNiEOhO",
        "colab": {
          "base_uri": "https://localhost:8080/"
        },
        "outputId": "9a0b2259-95f7-4e63-a04a-73c0c646ad42"
      },
      "execution_count": null,
      "outputs": [
        {
          "output_type": "execute_result",
          "data": {
            "text/plain": [
              "73"
            ]
          },
          "metadata": {},
          "execution_count": 18
        }
      ]
    },
    {
      "cell_type": "markdown",
      "source": [
        "Test Code to validate the class idee"
      ],
      "metadata": {
        "id": "rfCsSI1W3vjw"
      }
    },
    {
      "cell_type": "code",
      "source": [
        "firstRow = itemGroupedDataframe.iloc[0]\n",
        "firstRow"
      ],
      "metadata": {
        "colab": {
          "base_uri": "https://localhost:8080/"
        },
        "id": "C__CdwN43tPF",
        "outputId": "93689e79-40ae-4cee-fa75-3a8e12ea0551"
      },
      "execution_count": null,
      "outputs": [
        {
          "output_type": "execute_result",
          "data": {
            "text/plain": [
              "item_id                                                                2\n",
              "feature_category_id    [56, 62, 68, 33, 72, 29, 16, 50, 61, 53, 7, 69...\n",
              "feature_value_id       [365, 801, 351, 802, 75, 123, 38, 76, 462, 6, ...\n",
              "Name: 0, dtype: object"
            ]
          },
          "metadata": {},
          "execution_count": 19
        }
      ]
    },
    {
      "cell_type": "code",
      "source": [
        "secoundRow = itemGroupedDataframe.iloc[2]\n",
        "secoundRow"
      ],
      "metadata": {
        "colab": {
          "base_uri": "https://localhost:8080/"
        },
        "id": "POKBupkTQzAi",
        "outputId": "73e18cf3-ef81-4a66-e17b-bbdfc7a267e1"
      },
      "execution_count": null,
      "outputs": [
        {
          "output_type": "execute_result",
          "data": {
            "text/plain": [
              "item_id                                                                4\n",
              "feature_category_id    [55, 17, 5, 69, 18, 68, 50, 73, 65, 7, 59, 47,...\n",
              "feature_value_id       [267, 378, 605, 538, 289, 373, 317, 544, 521, ...\n",
              "Name: 2, dtype: object"
            ]
          },
          "metadata": {},
          "execution_count": 20
        }
      ]
    },
    {
      "cell_type": "code",
      "source": [
        "len(firstRow['feature_category_id'])"
      ],
      "metadata": {
        "colab": {
          "base_uri": "https://localhost:8080/"
        },
        "id": "NF9FcGJw4EKn",
        "outputId": "d69d258d-8d66-4aca-961e-52adc195a0c7"
      },
      "execution_count": null,
      "outputs": [
        {
          "output_type": "execute_result",
          "data": {
            "text/plain": [
              "13"
            ]
          },
          "metadata": {},
          "execution_count": 21
        }
      ]
    },
    {
      "cell_type": "code",
      "source": [
        "len(firstRow['feature_value_id'])"
      ],
      "metadata": {
        "colab": {
          "base_uri": "https://localhost:8080/"
        },
        "id": "YWXXoOF14K8p",
        "outputId": "31b094cc-db08-4551-b7f2-1d4497a3179f"
      },
      "execution_count": null,
      "outputs": [
        {
          "output_type": "execute_result",
          "data": {
            "text/plain": [
              "13"
            ]
          },
          "metadata": {},
          "execution_count": 22
        }
      ]
    },
    {
      "cell_type": "markdown",
      "source": [
        "Create a list with every item"
      ],
      "metadata": {
        "id": "jVoxDEGk53nr"
      }
    },
    {
      "cell_type": "code",
      "source": [
        "itemDict = dict()\n",
        "\n",
        "for index, row in itemGroupedDataframe.iterrows():\n",
        "  itemClass = Item(row['item_id'], categoryCount)\n",
        "\n",
        "  for i in range(0, len(row['feature_category_id'])):\n",
        "    itemClass.addToDict(row['feature_category_id'][i], row['feature_value_id'][i])\n",
        "\n",
        "  itemDict[itemClass.id] = list(itemClass.categorydict.values()).copy()"
      ],
      "metadata": {
        "id": "rbB3WSZ06FdP"
      },
      "execution_count": null,
      "outputs": []
    },
    {
      "cell_type": "markdown",
      "source": [
        "Vorbereitung der test daten \n"
      ],
      "metadata": {
        "id": "b6r9V5YaLIc_"
      }
    },
    {
      "cell_type": "code",
      "source": [
        "train_session_sessionId_group_dataframe = train_sessions.groupby(\"session_id\", as_index=False).agg({'item_id':lambda x: list(x), 'date':lambda x: list(x)})\n",
        "train_session_sessionId_group_dataframe"
      ],
      "metadata": {
        "colab": {
          "base_uri": "https://localhost:8080/",
          "height": 424
        },
        "id": "VLjNqOQgDf-F",
        "outputId": "461ab4d7-1081-4cc1-df48-5126906ac549"
      },
      "execution_count": null,
      "outputs": [
        {
          "output_type": "execute_result",
          "data": {
            "text/plain": [
              "        session_id                                            item_id  \\\n",
              "0                3                                       [9655, 9655]   \n",
              "1               13                                            [15654]   \n",
              "2               18                                [18316, 2507, 4026]   \n",
              "3               19  [25772, 6341, 25555, 20033, 8281, 8268, 4385, ...   \n",
              "4               24  [2927, 11662, 2927, 28075, 434, 16064, 10414, ...   \n",
              "...            ...                                                ...   \n",
              "999995     4439986         [13914, 19310, 13403, 23502, 27733, 12373]   \n",
              "999996     4439990  [1389, 22093, 7833, 17089, 1131, 4028, 17429, ...   \n",
              "999997     4439994                                            [25357]   \n",
              "999998     4439999       [13056, 8433, 1299, 2173, 6007, 8502, 15853]   \n",
              "999999     4440001  [25273, 10045, 26870, 19539, 18030, 20449, 252...   \n",
              "\n",
              "                                                     date  \n",
              "0       [2020-12-18 21:25:00.373, 2020-12-18 21:19:48....  \n",
              "1                               [2020-03-13 19:35:27.136]  \n",
              "2       [2020-08-26 19:18:30.833, 2020-08-26 19:16:31....  \n",
              "3       [2020-11-02 16:31:18.543, 2020-11-02 16:34:33....  \n",
              "4       [2020-02-26 17:23:04.84, 2020-02-26 17:26:29.1...  \n",
              "...                                                   ...  \n",
              "999995  [2021-05-13 11:48:21.792, 2021-05-13 11:50:51....  \n",
              "999996  [2020-08-22 11:39:59.191, 2020-08-22 12:33:15....  \n",
              "999997                          [2020-11-27 20:08:37.262]  \n",
              "999998  [2020-11-27 10:53:33.83, 2020-11-27 10:56:04.4...  \n",
              "999999  [2020-10-30 16:42:16.855, 2020-10-30 23:26:39....  \n",
              "\n",
              "[1000000 rows x 3 columns]"
            ],
            "text/html": [
              "\n",
              "  <div id=\"df-81f54dd8-eca1-4410-8c48-79904d824fd3\">\n",
              "    <div class=\"colab-df-container\">\n",
              "      <div>\n",
              "<style scoped>\n",
              "    .dataframe tbody tr th:only-of-type {\n",
              "        vertical-align: middle;\n",
              "    }\n",
              "\n",
              "    .dataframe tbody tr th {\n",
              "        vertical-align: top;\n",
              "    }\n",
              "\n",
              "    .dataframe thead th {\n",
              "        text-align: right;\n",
              "    }\n",
              "</style>\n",
              "<table border=\"1\" class=\"dataframe\">\n",
              "  <thead>\n",
              "    <tr style=\"text-align: right;\">\n",
              "      <th></th>\n",
              "      <th>session_id</th>\n",
              "      <th>item_id</th>\n",
              "      <th>date</th>\n",
              "    </tr>\n",
              "  </thead>\n",
              "  <tbody>\n",
              "    <tr>\n",
              "      <th>0</th>\n",
              "      <td>3</td>\n",
              "      <td>[9655, 9655]</td>\n",
              "      <td>[2020-12-18 21:25:00.373, 2020-12-18 21:19:48....</td>\n",
              "    </tr>\n",
              "    <tr>\n",
              "      <th>1</th>\n",
              "      <td>13</td>\n",
              "      <td>[15654]</td>\n",
              "      <td>[2020-03-13 19:35:27.136]</td>\n",
              "    </tr>\n",
              "    <tr>\n",
              "      <th>2</th>\n",
              "      <td>18</td>\n",
              "      <td>[18316, 2507, 4026]</td>\n",
              "      <td>[2020-08-26 19:18:30.833, 2020-08-26 19:16:31....</td>\n",
              "    </tr>\n",
              "    <tr>\n",
              "      <th>3</th>\n",
              "      <td>19</td>\n",
              "      <td>[25772, 6341, 25555, 20033, 8281, 8268, 4385, ...</td>\n",
              "      <td>[2020-11-02 16:31:18.543, 2020-11-02 16:34:33....</td>\n",
              "    </tr>\n",
              "    <tr>\n",
              "      <th>4</th>\n",
              "      <td>24</td>\n",
              "      <td>[2927, 11662, 2927, 28075, 434, 16064, 10414, ...</td>\n",
              "      <td>[2020-02-26 17:23:04.84, 2020-02-26 17:26:29.1...</td>\n",
              "    </tr>\n",
              "    <tr>\n",
              "      <th>...</th>\n",
              "      <td>...</td>\n",
              "      <td>...</td>\n",
              "      <td>...</td>\n",
              "    </tr>\n",
              "    <tr>\n",
              "      <th>999995</th>\n",
              "      <td>4439986</td>\n",
              "      <td>[13914, 19310, 13403, 23502, 27733, 12373]</td>\n",
              "      <td>[2021-05-13 11:48:21.792, 2021-05-13 11:50:51....</td>\n",
              "    </tr>\n",
              "    <tr>\n",
              "      <th>999996</th>\n",
              "      <td>4439990</td>\n",
              "      <td>[1389, 22093, 7833, 17089, 1131, 4028, 17429, ...</td>\n",
              "      <td>[2020-08-22 11:39:59.191, 2020-08-22 12:33:15....</td>\n",
              "    </tr>\n",
              "    <tr>\n",
              "      <th>999997</th>\n",
              "      <td>4439994</td>\n",
              "      <td>[25357]</td>\n",
              "      <td>[2020-11-27 20:08:37.262]</td>\n",
              "    </tr>\n",
              "    <tr>\n",
              "      <th>999998</th>\n",
              "      <td>4439999</td>\n",
              "      <td>[13056, 8433, 1299, 2173, 6007, 8502, 15853]</td>\n",
              "      <td>[2020-11-27 10:53:33.83, 2020-11-27 10:56:04.4...</td>\n",
              "    </tr>\n",
              "    <tr>\n",
              "      <th>999999</th>\n",
              "      <td>4440001</td>\n",
              "      <td>[25273, 10045, 26870, 19539, 18030, 20449, 252...</td>\n",
              "      <td>[2020-10-30 16:42:16.855, 2020-10-30 23:26:39....</td>\n",
              "    </tr>\n",
              "  </tbody>\n",
              "</table>\n",
              "<p>1000000 rows × 3 columns</p>\n",
              "</div>\n",
              "      <button class=\"colab-df-convert\" onclick=\"convertToInteractive('df-81f54dd8-eca1-4410-8c48-79904d824fd3')\"\n",
              "              title=\"Convert this dataframe to an interactive table.\"\n",
              "              style=\"display:none;\">\n",
              "        \n",
              "  <svg xmlns=\"http://www.w3.org/2000/svg\" height=\"24px\"viewBox=\"0 0 24 24\"\n",
              "       width=\"24px\">\n",
              "    <path d=\"M0 0h24v24H0V0z\" fill=\"none\"/>\n",
              "    <path d=\"M18.56 5.44l.94 2.06.94-2.06 2.06-.94-2.06-.94-.94-2.06-.94 2.06-2.06.94zm-11 1L8.5 8.5l.94-2.06 2.06-.94-2.06-.94L8.5 2.5l-.94 2.06-2.06.94zm10 10l.94 2.06.94-2.06 2.06-.94-2.06-.94-.94-2.06-.94 2.06-2.06.94z\"/><path d=\"M17.41 7.96l-1.37-1.37c-.4-.4-.92-.59-1.43-.59-.52 0-1.04.2-1.43.59L10.3 9.45l-7.72 7.72c-.78.78-.78 2.05 0 2.83L4 21.41c.39.39.9.59 1.41.59.51 0 1.02-.2 1.41-.59l7.78-7.78 2.81-2.81c.8-.78.8-2.07 0-2.86zM5.41 20L4 18.59l7.72-7.72 1.47 1.35L5.41 20z\"/>\n",
              "  </svg>\n",
              "      </button>\n",
              "      \n",
              "  <style>\n",
              "    .colab-df-container {\n",
              "      display:flex;\n",
              "      flex-wrap:wrap;\n",
              "      gap: 12px;\n",
              "    }\n",
              "\n",
              "    .colab-df-convert {\n",
              "      background-color: #E8F0FE;\n",
              "      border: none;\n",
              "      border-radius: 50%;\n",
              "      cursor: pointer;\n",
              "      display: none;\n",
              "      fill: #1967D2;\n",
              "      height: 32px;\n",
              "      padding: 0 0 0 0;\n",
              "      width: 32px;\n",
              "    }\n",
              "\n",
              "    .colab-df-convert:hover {\n",
              "      background-color: #E2EBFA;\n",
              "      box-shadow: 0px 1px 2px rgba(60, 64, 67, 0.3), 0px 1px 3px 1px rgba(60, 64, 67, 0.15);\n",
              "      fill: #174EA6;\n",
              "    }\n",
              "\n",
              "    [theme=dark] .colab-df-convert {\n",
              "      background-color: #3B4455;\n",
              "      fill: #D2E3FC;\n",
              "    }\n",
              "\n",
              "    [theme=dark] .colab-df-convert:hover {\n",
              "      background-color: #434B5C;\n",
              "      box-shadow: 0px 1px 3px 1px rgba(0, 0, 0, 0.15);\n",
              "      filter: drop-shadow(0px 1px 2px rgba(0, 0, 0, 0.3));\n",
              "      fill: #FFFFFF;\n",
              "    }\n",
              "  </style>\n",
              "\n",
              "      <script>\n",
              "        const buttonEl =\n",
              "          document.querySelector('#df-81f54dd8-eca1-4410-8c48-79904d824fd3 button.colab-df-convert');\n",
              "        buttonEl.style.display =\n",
              "          google.colab.kernel.accessAllowed ? 'block' : 'none';\n",
              "\n",
              "        async function convertToInteractive(key) {\n",
              "          const element = document.querySelector('#df-81f54dd8-eca1-4410-8c48-79904d824fd3');\n",
              "          const dataTable =\n",
              "            await google.colab.kernel.invokeFunction('convertToInteractive',\n",
              "                                                     [key], {});\n",
              "          if (!dataTable) return;\n",
              "\n",
              "          const docLinkHtml = 'Like what you see? Visit the ' +\n",
              "            '<a target=\"_blank\" href=https://colab.research.google.com/notebooks/data_table.ipynb>data table notebook</a>'\n",
              "            + ' to learn more about interactive tables.';\n",
              "          element.innerHTML = '';\n",
              "          dataTable['output_type'] = 'display_data';\n",
              "          await google.colab.output.renderOutput(dataTable, element);\n",
              "          const docLink = document.createElement('div');\n",
              "          docLink.innerHTML = docLinkHtml;\n",
              "          element.appendChild(docLink);\n",
              "        }\n",
              "      </script>\n",
              "    </div>\n",
              "  </div>\n",
              "  "
            ]
          },
          "metadata": {},
          "execution_count": 25
        }
      ]
    },
    {
      "cell_type": "markdown",
      "source": [
        "Test code zum überprüfen"
      ],
      "metadata": {
        "id": "N3YwcWwXOvOX"
      }
    },
    {
      "cell_type": "code",
      "source": [
        "from datetime import datetime\n",
        "datetime_list = [\n",
        "    datetime(2009, 10, 12, 10, 10),\n",
        "    datetime(2010, 10, 12, 10, 10),\n",
        "    datetime(2010, 10, 12, 10, 10),\n",
        "    datetime(2015, 2, 12, 10, 10), # future\n",
        "    datetime(2016, 2, 12, 10, 10), # future\n",
        "]\n",
        "oldest = min(datetime_list)\n",
        "youngest = max(datetime_list)"
      ],
      "metadata": {
        "id": "GYvBh-Wba4ay"
      },
      "execution_count": null,
      "outputs": []
    },
    {
      "cell_type": "code",
      "source": [
        "youngest"
      ],
      "metadata": {
        "colab": {
          "base_uri": "https://localhost:8080/"
        },
        "id": "gavHIQWwbM9O",
        "outputId": "acd5ff4d-2cb2-439e-f011-f96e4684b0db"
      },
      "execution_count": null,
      "outputs": [
        {
          "output_type": "execute_result",
          "data": {
            "text/plain": [
              "datetime.datetime(2016, 2, 12, 10, 10)"
            ]
          },
          "metadata": {},
          "execution_count": 27
        }
      ]
    },
    {
      "cell_type": "code",
      "source": [
        "train_session_firstrow = train_session_sessionId_group_dataframe.iloc[0]"
      ],
      "metadata": {
        "id": "EGtbbJBhbeIw"
      },
      "execution_count": null,
      "outputs": []
    },
    {
      "cell_type": "code",
      "source": [
        "highest_date = max(train_session_firstrow['date'])"
      ],
      "metadata": {
        "id": "Or73s6Webqrg"
      },
      "execution_count": null,
      "outputs": []
    },
    {
      "cell_type": "code",
      "source": [
        "train_session_firstrow['date'].index(highest_date)"
      ],
      "metadata": {
        "colab": {
          "base_uri": "https://localhost:8080/"
        },
        "id": "wfz-f1gjcFei",
        "outputId": "71ef1019-ab98-4db3-bdb3-ee8e280311d4"
      },
      "execution_count": null,
      "outputs": [
        {
          "output_type": "execute_result",
          "data": {
            "text/plain": [
              "0"
            ]
          },
          "metadata": {},
          "execution_count": 32
        }
      ]
    },
    {
      "cell_type": "code",
      "source": [
        "len(itemDict)"
      ],
      "metadata": {
        "colab": {
          "base_uri": "https://localhost:8080/"
        },
        "id": "Qxt-RqtI91wR",
        "outputId": "14988305-a773-422d-921b-c92ce02612f2"
      },
      "execution_count": null,
      "outputs": [
        {
          "output_type": "execute_result",
          "data": {
            "text/plain": [
              "23691"
            ]
          },
          "metadata": {},
          "execution_count": 33
        }
      ]
    },
    {
      "cell_type": "code",
      "source": [
        "item_one = itemDict[11662]"
      ],
      "metadata": {
        "id": "afQDWU4ONfxn"
      },
      "execution_count": null,
      "outputs": []
    },
    {
      "cell_type": "code",
      "source": [
        "item_two = itemDict[13226]"
      ],
      "metadata": {
        "id": "R80t8FBpO1cr"
      },
      "execution_count": null,
      "outputs": []
    },
    {
      "cell_type": "code",
      "source": [
        "from scipy.spatial import distance\n",
        "test_dist = distance.cosine(item_one, item_two)"
      ],
      "metadata": {
        "id": "1c3SkaLJPwu-"
      },
      "execution_count": null,
      "outputs": []
    },
    {
      "cell_type": "code",
      "source": [
        "test_dist"
      ],
      "metadata": {
        "colab": {
          "base_uri": "https://localhost:8080/"
        },
        "id": "jYi0PsDLP9zJ",
        "outputId": "41d9baa5-4dfa-4290-fda2-7d8ec9d05734"
      },
      "execution_count": null,
      "outputs": [
        {
          "output_type": "execute_result",
          "data": {
            "text/plain": [
              "0.37239402523638765"
            ]
          },
          "metadata": {},
          "execution_count": 37
        }
      ]
    },
    {
      "cell_type": "code",
      "source": [
        "from scipy.spatial import minkowski_distance\n",
        "test_dist2 = distance.euclidean(item_one, item_two)"
      ],
      "metadata": {
        "id": "FeuZMLVtPI2q"
      },
      "execution_count": null,
      "outputs": []
    },
    {
      "cell_type": "code",
      "source": [
        "test_dist2"
      ],
      "metadata": {
        "colab": {
          "base_uri": "https://localhost:8080/"
        },
        "id": "94R2DnlkPVeJ",
        "outputId": "08c1472b-be78-470c-e5ff-28f054f3dd82"
      },
      "execution_count": null,
      "outputs": [
        {
          "output_type": "execute_result",
          "data": {
            "text/plain": [
              "1734.109858111648"
            ]
          },
          "metadata": {},
          "execution_count": 39
        }
      ]
    },
    {
      "cell_type": "code",
      "source": [
        "from random import randint\n",
        "for _ in range(10):\n",
        "\tvalue = randint(0, 0)\n",
        "\tprint(value)"
      ],
      "metadata": {
        "id": "6uuE_aLAbdLc"
      },
      "execution_count": null,
      "outputs": []
    },
    {
      "cell_type": "markdown",
      "source": [
        "Distance Matrix erstellen "
      ],
      "metadata": {
        "id": "CnJ-ehG8sDqA"
      }
    },
    {
      "cell_type": "markdown",
      "source": [
        "Die Distance matrix zu erstellen dauert um den dreh 7 mins"
      ],
      "metadata": {
        "id": "OTXzBwyUVpa0"
      }
    },
    {
      "cell_type": "code",
      "source": [
        "%%time\n",
        "\n",
        "from scipy.spatial import distance_matrix\n",
        "#distance_matrix(list(itemDict.values()), list(itemDict.values()))\n",
        "distanceMatrix = pd.DataFrame(distance_matrix(list(itemDict.values()), list(itemDict.values())), columns=itemDict.keys(), index=itemDict.keys())"
      ],
      "metadata": {
        "colab": {
          "base_uri": "https://localhost:8080/"
        },
        "id": "1x7yamCSKB_a",
        "outputId": "e8581eb2-d1a9-4b72-fe92-6bc534da0797"
      },
      "execution_count": null,
      "outputs": [
        {
          "output_type": "stream",
          "name": "stdout",
          "text": [
            "CPU times: user 6min 30s, sys: 16.4 s, total: 6min 47s\n",
            "Wall time: 6min 48s\n"
          ]
        }
      ]
    },
    {
      "cell_type": "code",
      "source": [
        "distanceMatrix.head(10)"
      ],
      "metadata": {
        "colab": {
          "base_uri": "https://localhost:8080/",
          "height": 456
        },
        "id": "NBmHV3nuOdt7",
        "outputId": "c460e94e-0274-4d44-ec4a-eeb7e62f5da8"
      },
      "execution_count": null,
      "outputs": [
        {
          "output_type": "execute_result",
          "data": {
            "text/plain": [
              "          2            3            4            7            8      \\\n",
              "2      0.000000  2856.469324  2716.219984  2054.486797  2999.781492   \n",
              "3   2856.469324     0.000000  1512.405369  2530.974318   999.138629   \n",
              "4   2716.219984  1512.405369     0.000000  2275.047912  1572.047073   \n",
              "7   2054.486797  2530.974318  2275.047912     0.000000  2622.524547   \n",
              "8   2999.781492   999.138629  1572.047073  2622.524547     0.000000   \n",
              "9   2853.184186  1556.612669  1769.087618  2704.300279  1574.396075   \n",
              "10  1798.609463  2913.213174  2707.682958  2023.990613  3006.037092   \n",
              "11  2593.646468  3237.284201  3143.069042  2653.086504  3152.311374   \n",
              "13  1603.611237  2543.863204  2435.575497  2045.459606  2746.583696   \n",
              "14  2049.745594  2792.046561  2710.637563  2302.934867  2920.077396   \n",
              "\n",
              "          9            10           11           13           14     ...  \\\n",
              "2   2853.184186  1798.609463  2593.646468  1603.611237  2049.745594  ...   \n",
              "3   1556.612669  2913.213174  3237.284201  2543.863204  2792.046561  ...   \n",
              "4   1769.087618  2707.682958  3143.069042  2435.575497  2710.637563  ...   \n",
              "7   2704.300279  2023.990613  2653.086504  2045.459606  2302.934867  ...   \n",
              "8   1574.396075  3006.037092  3152.311374  2746.583696  2920.077396  ...   \n",
              "9      0.000000  2902.083734  3188.912667  2501.039984  2575.344055  ...   \n",
              "10  2902.083734     0.000000  1979.266531  1837.513809  2422.616973  ...   \n",
              "11  3188.912667  1979.266531     0.000000  2894.649720  2727.224047  ...   \n",
              "13  2501.039984  1837.513809  2894.649720     0.000000  2287.936625  ...   \n",
              "14  2575.344055  2422.616973  2727.224047  2287.936625     0.000000  ...   \n",
              "\n",
              "          28133        28134        28135        28137        28138  \\\n",
              "2   2257.172346  1572.787653  2562.943230  1656.697921  2864.588627   \n",
              "3   2831.140053  2887.068756  3064.945840  2620.915298  1394.763421   \n",
              "4   2603.957373  2668.194146  2938.983668  2409.224979  1830.716526   \n",
              "7   2101.796137  2108.003083  2625.239799  1906.807804  2533.165608   \n",
              "8   2901.503748  2926.345844  3169.277993  2729.684780  1461.127989   \n",
              "9   2725.569849  2857.330747  3009.652139  2525.163757  1801.179613   \n",
              "10  1781.358751  1942.370459  1872.774946  2088.097699  2994.353687   \n",
              "11  2052.603956  2618.040680  2216.840545  2827.746453  3253.211951   \n",
              "13  1681.021713  2040.005882  2152.474622  1269.670430  2484.854322   \n",
              "14  2551.862065  2147.565599  2883.898923  2288.419760  2782.094355   \n",
              "\n",
              "          28139        28140        28141        28142        28143  \n",
              "2   2806.914142  2353.051423  2669.690806  1891.854646  2007.062281  \n",
              "3   1959.580567  3046.024951  1854.307957  2605.599163  2405.748948  \n",
              "4   1757.769041  3019.907283  1904.241056  2381.487140  2462.032494  \n",
              "7   2364.115691  2554.551820  2548.680639  1346.505106  1936.898810  \n",
              "8   1988.214274  3226.501511  1947.209799  2648.501274  2315.756464  \n",
              "9   1823.846211  3075.143411  1987.777402  2630.919231  2111.523384  \n",
              "10  2715.705249  2689.100779  2998.367056  2191.732648  2294.674051  \n",
              "11  3128.328787  3040.802032  3004.326380  2423.169412  2321.090907  \n",
              "13  2460.021545  2439.571684  2584.046826  2204.236603  2232.667463  \n",
              "14  2847.906248  2302.959835  2511.843148  2068.899466  1915.401263  \n",
              "\n",
              "[10 rows x 23691 columns]"
            ],
            "text/html": [
              "\n",
              "  <div id=\"df-6cec89c1-f9b6-45c2-9ed3-b56513b9a3e1\">\n",
              "    <div class=\"colab-df-container\">\n",
              "      <div>\n",
              "<style scoped>\n",
              "    .dataframe tbody tr th:only-of-type {\n",
              "        vertical-align: middle;\n",
              "    }\n",
              "\n",
              "    .dataframe tbody tr th {\n",
              "        vertical-align: top;\n",
              "    }\n",
              "\n",
              "    .dataframe thead th {\n",
              "        text-align: right;\n",
              "    }\n",
              "</style>\n",
              "<table border=\"1\" class=\"dataframe\">\n",
              "  <thead>\n",
              "    <tr style=\"text-align: right;\">\n",
              "      <th></th>\n",
              "      <th>2</th>\n",
              "      <th>3</th>\n",
              "      <th>4</th>\n",
              "      <th>7</th>\n",
              "      <th>8</th>\n",
              "      <th>9</th>\n",
              "      <th>10</th>\n",
              "      <th>11</th>\n",
              "      <th>13</th>\n",
              "      <th>14</th>\n",
              "      <th>...</th>\n",
              "      <th>28133</th>\n",
              "      <th>28134</th>\n",
              "      <th>28135</th>\n",
              "      <th>28137</th>\n",
              "      <th>28138</th>\n",
              "      <th>28139</th>\n",
              "      <th>28140</th>\n",
              "      <th>28141</th>\n",
              "      <th>28142</th>\n",
              "      <th>28143</th>\n",
              "    </tr>\n",
              "  </thead>\n",
              "  <tbody>\n",
              "    <tr>\n",
              "      <th>2</th>\n",
              "      <td>0.000000</td>\n",
              "      <td>2856.469324</td>\n",
              "      <td>2716.219984</td>\n",
              "      <td>2054.486797</td>\n",
              "      <td>2999.781492</td>\n",
              "      <td>2853.184186</td>\n",
              "      <td>1798.609463</td>\n",
              "      <td>2593.646468</td>\n",
              "      <td>1603.611237</td>\n",
              "      <td>2049.745594</td>\n",
              "      <td>...</td>\n",
              "      <td>2257.172346</td>\n",
              "      <td>1572.787653</td>\n",
              "      <td>2562.943230</td>\n",
              "      <td>1656.697921</td>\n",
              "      <td>2864.588627</td>\n",
              "      <td>2806.914142</td>\n",
              "      <td>2353.051423</td>\n",
              "      <td>2669.690806</td>\n",
              "      <td>1891.854646</td>\n",
              "      <td>2007.062281</td>\n",
              "    </tr>\n",
              "    <tr>\n",
              "      <th>3</th>\n",
              "      <td>2856.469324</td>\n",
              "      <td>0.000000</td>\n",
              "      <td>1512.405369</td>\n",
              "      <td>2530.974318</td>\n",
              "      <td>999.138629</td>\n",
              "      <td>1556.612669</td>\n",
              "      <td>2913.213174</td>\n",
              "      <td>3237.284201</td>\n",
              "      <td>2543.863204</td>\n",
              "      <td>2792.046561</td>\n",
              "      <td>...</td>\n",
              "      <td>2831.140053</td>\n",
              "      <td>2887.068756</td>\n",
              "      <td>3064.945840</td>\n",
              "      <td>2620.915298</td>\n",
              "      <td>1394.763421</td>\n",
              "      <td>1959.580567</td>\n",
              "      <td>3046.024951</td>\n",
              "      <td>1854.307957</td>\n",
              "      <td>2605.599163</td>\n",
              "      <td>2405.748948</td>\n",
              "    </tr>\n",
              "    <tr>\n",
              "      <th>4</th>\n",
              "      <td>2716.219984</td>\n",
              "      <td>1512.405369</td>\n",
              "      <td>0.000000</td>\n",
              "      <td>2275.047912</td>\n",
              "      <td>1572.047073</td>\n",
              "      <td>1769.087618</td>\n",
              "      <td>2707.682958</td>\n",
              "      <td>3143.069042</td>\n",
              "      <td>2435.575497</td>\n",
              "      <td>2710.637563</td>\n",
              "      <td>...</td>\n",
              "      <td>2603.957373</td>\n",
              "      <td>2668.194146</td>\n",
              "      <td>2938.983668</td>\n",
              "      <td>2409.224979</td>\n",
              "      <td>1830.716526</td>\n",
              "      <td>1757.769041</td>\n",
              "      <td>3019.907283</td>\n",
              "      <td>1904.241056</td>\n",
              "      <td>2381.487140</td>\n",
              "      <td>2462.032494</td>\n",
              "    </tr>\n",
              "    <tr>\n",
              "      <th>7</th>\n",
              "      <td>2054.486797</td>\n",
              "      <td>2530.974318</td>\n",
              "      <td>2275.047912</td>\n",
              "      <td>0.000000</td>\n",
              "      <td>2622.524547</td>\n",
              "      <td>2704.300279</td>\n",
              "      <td>2023.990613</td>\n",
              "      <td>2653.086504</td>\n",
              "      <td>2045.459606</td>\n",
              "      <td>2302.934867</td>\n",
              "      <td>...</td>\n",
              "      <td>2101.796137</td>\n",
              "      <td>2108.003083</td>\n",
              "      <td>2625.239799</td>\n",
              "      <td>1906.807804</td>\n",
              "      <td>2533.165608</td>\n",
              "      <td>2364.115691</td>\n",
              "      <td>2554.551820</td>\n",
              "      <td>2548.680639</td>\n",
              "      <td>1346.505106</td>\n",
              "      <td>1936.898810</td>\n",
              "    </tr>\n",
              "    <tr>\n",
              "      <th>8</th>\n",
              "      <td>2999.781492</td>\n",
              "      <td>999.138629</td>\n",
              "      <td>1572.047073</td>\n",
              "      <td>2622.524547</td>\n",
              "      <td>0.000000</td>\n",
              "      <td>1574.396075</td>\n",
              "      <td>3006.037092</td>\n",
              "      <td>3152.311374</td>\n",
              "      <td>2746.583696</td>\n",
              "      <td>2920.077396</td>\n",
              "      <td>...</td>\n",
              "      <td>2901.503748</td>\n",
              "      <td>2926.345844</td>\n",
              "      <td>3169.277993</td>\n",
              "      <td>2729.684780</td>\n",
              "      <td>1461.127989</td>\n",
              "      <td>1988.214274</td>\n",
              "      <td>3226.501511</td>\n",
              "      <td>1947.209799</td>\n",
              "      <td>2648.501274</td>\n",
              "      <td>2315.756464</td>\n",
              "    </tr>\n",
              "    <tr>\n",
              "      <th>9</th>\n",
              "      <td>2853.184186</td>\n",
              "      <td>1556.612669</td>\n",
              "      <td>1769.087618</td>\n",
              "      <td>2704.300279</td>\n",
              "      <td>1574.396075</td>\n",
              "      <td>0.000000</td>\n",
              "      <td>2902.083734</td>\n",
              "      <td>3188.912667</td>\n",
              "      <td>2501.039984</td>\n",
              "      <td>2575.344055</td>\n",
              "      <td>...</td>\n",
              "      <td>2725.569849</td>\n",
              "      <td>2857.330747</td>\n",
              "      <td>3009.652139</td>\n",
              "      <td>2525.163757</td>\n",
              "      <td>1801.179613</td>\n",
              "      <td>1823.846211</td>\n",
              "      <td>3075.143411</td>\n",
              "      <td>1987.777402</td>\n",
              "      <td>2630.919231</td>\n",
              "      <td>2111.523384</td>\n",
              "    </tr>\n",
              "    <tr>\n",
              "      <th>10</th>\n",
              "      <td>1798.609463</td>\n",
              "      <td>2913.213174</td>\n",
              "      <td>2707.682958</td>\n",
              "      <td>2023.990613</td>\n",
              "      <td>3006.037092</td>\n",
              "      <td>2902.083734</td>\n",
              "      <td>0.000000</td>\n",
              "      <td>1979.266531</td>\n",
              "      <td>1837.513809</td>\n",
              "      <td>2422.616973</td>\n",
              "      <td>...</td>\n",
              "      <td>1781.358751</td>\n",
              "      <td>1942.370459</td>\n",
              "      <td>1872.774946</td>\n",
              "      <td>2088.097699</td>\n",
              "      <td>2994.353687</td>\n",
              "      <td>2715.705249</td>\n",
              "      <td>2689.100779</td>\n",
              "      <td>2998.367056</td>\n",
              "      <td>2191.732648</td>\n",
              "      <td>2294.674051</td>\n",
              "    </tr>\n",
              "    <tr>\n",
              "      <th>11</th>\n",
              "      <td>2593.646468</td>\n",
              "      <td>3237.284201</td>\n",
              "      <td>3143.069042</td>\n",
              "      <td>2653.086504</td>\n",
              "      <td>3152.311374</td>\n",
              "      <td>3188.912667</td>\n",
              "      <td>1979.266531</td>\n",
              "      <td>0.000000</td>\n",
              "      <td>2894.649720</td>\n",
              "      <td>2727.224047</td>\n",
              "      <td>...</td>\n",
              "      <td>2052.603956</td>\n",
              "      <td>2618.040680</td>\n",
              "      <td>2216.840545</td>\n",
              "      <td>2827.746453</td>\n",
              "      <td>3253.211951</td>\n",
              "      <td>3128.328787</td>\n",
              "      <td>3040.802032</td>\n",
              "      <td>3004.326380</td>\n",
              "      <td>2423.169412</td>\n",
              "      <td>2321.090907</td>\n",
              "    </tr>\n",
              "    <tr>\n",
              "      <th>13</th>\n",
              "      <td>1603.611237</td>\n",
              "      <td>2543.863204</td>\n",
              "      <td>2435.575497</td>\n",
              "      <td>2045.459606</td>\n",
              "      <td>2746.583696</td>\n",
              "      <td>2501.039984</td>\n",
              "      <td>1837.513809</td>\n",
              "      <td>2894.649720</td>\n",
              "      <td>0.000000</td>\n",
              "      <td>2287.936625</td>\n",
              "      <td>...</td>\n",
              "      <td>1681.021713</td>\n",
              "      <td>2040.005882</td>\n",
              "      <td>2152.474622</td>\n",
              "      <td>1269.670430</td>\n",
              "      <td>2484.854322</td>\n",
              "      <td>2460.021545</td>\n",
              "      <td>2439.571684</td>\n",
              "      <td>2584.046826</td>\n",
              "      <td>2204.236603</td>\n",
              "      <td>2232.667463</td>\n",
              "    </tr>\n",
              "    <tr>\n",
              "      <th>14</th>\n",
              "      <td>2049.745594</td>\n",
              "      <td>2792.046561</td>\n",
              "      <td>2710.637563</td>\n",
              "      <td>2302.934867</td>\n",
              "      <td>2920.077396</td>\n",
              "      <td>2575.344055</td>\n",
              "      <td>2422.616973</td>\n",
              "      <td>2727.224047</td>\n",
              "      <td>2287.936625</td>\n",
              "      <td>0.000000</td>\n",
              "      <td>...</td>\n",
              "      <td>2551.862065</td>\n",
              "      <td>2147.565599</td>\n",
              "      <td>2883.898923</td>\n",
              "      <td>2288.419760</td>\n",
              "      <td>2782.094355</td>\n",
              "      <td>2847.906248</td>\n",
              "      <td>2302.959835</td>\n",
              "      <td>2511.843148</td>\n",
              "      <td>2068.899466</td>\n",
              "      <td>1915.401263</td>\n",
              "    </tr>\n",
              "  </tbody>\n",
              "</table>\n",
              "<p>10 rows × 23691 columns</p>\n",
              "</div>\n",
              "      <button class=\"colab-df-convert\" onclick=\"convertToInteractive('df-6cec89c1-f9b6-45c2-9ed3-b56513b9a3e1')\"\n",
              "              title=\"Convert this dataframe to an interactive table.\"\n",
              "              style=\"display:none;\">\n",
              "        \n",
              "  <svg xmlns=\"http://www.w3.org/2000/svg\" height=\"24px\"viewBox=\"0 0 24 24\"\n",
              "       width=\"24px\">\n",
              "    <path d=\"M0 0h24v24H0V0z\" fill=\"none\"/>\n",
              "    <path d=\"M18.56 5.44l.94 2.06.94-2.06 2.06-.94-2.06-.94-.94-2.06-.94 2.06-2.06.94zm-11 1L8.5 8.5l.94-2.06 2.06-.94-2.06-.94L8.5 2.5l-.94 2.06-2.06.94zm10 10l.94 2.06.94-2.06 2.06-.94-2.06-.94-.94-2.06-.94 2.06-2.06.94z\"/><path d=\"M17.41 7.96l-1.37-1.37c-.4-.4-.92-.59-1.43-.59-.52 0-1.04.2-1.43.59L10.3 9.45l-7.72 7.72c-.78.78-.78 2.05 0 2.83L4 21.41c.39.39.9.59 1.41.59.51 0 1.02-.2 1.41-.59l7.78-7.78 2.81-2.81c.8-.78.8-2.07 0-2.86zM5.41 20L4 18.59l7.72-7.72 1.47 1.35L5.41 20z\"/>\n",
              "  </svg>\n",
              "      </button>\n",
              "      \n",
              "  <style>\n",
              "    .colab-df-container {\n",
              "      display:flex;\n",
              "      flex-wrap:wrap;\n",
              "      gap: 12px;\n",
              "    }\n",
              "\n",
              "    .colab-df-convert {\n",
              "      background-color: #E8F0FE;\n",
              "      border: none;\n",
              "      border-radius: 50%;\n",
              "      cursor: pointer;\n",
              "      display: none;\n",
              "      fill: #1967D2;\n",
              "      height: 32px;\n",
              "      padding: 0 0 0 0;\n",
              "      width: 32px;\n",
              "    }\n",
              "\n",
              "    .colab-df-convert:hover {\n",
              "      background-color: #E2EBFA;\n",
              "      box-shadow: 0px 1px 2px rgba(60, 64, 67, 0.3), 0px 1px 3px 1px rgba(60, 64, 67, 0.15);\n",
              "      fill: #174EA6;\n",
              "    }\n",
              "\n",
              "    [theme=dark] .colab-df-convert {\n",
              "      background-color: #3B4455;\n",
              "      fill: #D2E3FC;\n",
              "    }\n",
              "\n",
              "    [theme=dark] .colab-df-convert:hover {\n",
              "      background-color: #434B5C;\n",
              "      box-shadow: 0px 1px 3px 1px rgba(0, 0, 0, 0.15);\n",
              "      filter: drop-shadow(0px 1px 2px rgba(0, 0, 0, 0.3));\n",
              "      fill: #FFFFFF;\n",
              "    }\n",
              "  </style>\n",
              "\n",
              "      <script>\n",
              "        const buttonEl =\n",
              "          document.querySelector('#df-6cec89c1-f9b6-45c2-9ed3-b56513b9a3e1 button.colab-df-convert');\n",
              "        buttonEl.style.display =\n",
              "          google.colab.kernel.accessAllowed ? 'block' : 'none';\n",
              "\n",
              "        async function convertToInteractive(key) {\n",
              "          const element = document.querySelector('#df-6cec89c1-f9b6-45c2-9ed3-b56513b9a3e1');\n",
              "          const dataTable =\n",
              "            await google.colab.kernel.invokeFunction('convertToInteractive',\n",
              "                                                     [key], {});\n",
              "          if (!dataTable) return;\n",
              "\n",
              "          const docLinkHtml = 'Like what you see? Visit the ' +\n",
              "            '<a target=\"_blank\" href=https://colab.research.google.com/notebooks/data_table.ipynb>data table notebook</a>'\n",
              "            + ' to learn more about interactive tables.';\n",
              "          element.innerHTML = '';\n",
              "          dataTable['output_type'] = 'display_data';\n",
              "          await google.colab.output.renderOutput(dataTable, element);\n",
              "          const docLink = document.createElement('div');\n",
              "          docLink.innerHTML = docLinkHtml;\n",
              "          element.appendChild(docLink);\n",
              "        }\n",
              "      </script>\n",
              "    </div>\n",
              "  </div>\n",
              "  "
            ]
          },
          "metadata": {},
          "execution_count": 62
        }
      ]
    },
    {
      "cell_type": "code",
      "source": [
        "dist_row = distanceMatrix.loc[[2]]"
      ],
      "metadata": {
        "id": "B-D1JbtpSEN4"
      },
      "execution_count": null,
      "outputs": []
    },
    {
      "cell_type": "code",
      "source": [
        "dist_row_dict = dist_row.to_dict(orient='records')"
      ],
      "metadata": {
        "id": "PgE5eSbrZqeG"
      },
      "execution_count": null,
      "outputs": []
    },
    {
      "cell_type": "code",
      "source": [
        "dist_row_dict_sorted = dict(sorted(dist_row_dict[0].items(), key=lambda item: item[1]))"
      ],
      "metadata": {
        "id": "_vzZRZ6Ba8DZ"
      },
      "execution_count": null,
      "outputs": []
    },
    {
      "cell_type": "code",
      "source": [
        "dist_row_dict_sorted_top_100 = dict(list(dist_row_dict_sorted.items())[:100])"
      ],
      "metadata": {
        "id": "PzDFQd5Gbq5N"
      },
      "execution_count": null,
      "outputs": []
    },
    {
      "cell_type": "code",
      "source": [
        "dist_row_dict_sorted_top_100"
      ],
      "metadata": {
        "id": "3XkWrAMMcKao"
      },
      "execution_count": null,
      "outputs": []
    },
    {
      "cell_type": "code",
      "source": [
        "for key in dist_row_dict_sorted_top_100:\n",
        "  print(key)\n"
      ],
      "metadata": {
        "id": "r4ft_jNXdlGK"
      },
      "execution_count": null,
      "outputs": []
    },
    {
      "cell_type": "markdown",
      "source": [
        "Help funktion "
      ],
      "metadata": {
        "id": "U95fmvVmmh9R"
      }
    },
    {
      "cell_type": "markdown",
      "source": [
        "nicht die idialste funtion da sie nur ein item betrachtet welches sich der user angeguckt hat "
      ],
      "metadata": {
        "id": "s9JpMqvVk6Q4"
      }
    },
    {
      "cell_type": "code",
      "source": [
        "def createSessionDataFrame(sessionGroupDict):\n",
        "  df_current = pd.DataFrame(columns=['session_id', 'item_id', 'rank'])\n",
        "\n",
        "  i = 0\n",
        "\n",
        "  for index, row in sessionGroupDict.iterrows():    \n",
        "\n",
        "    if i == 50:\n",
        "      break;\n",
        "\n",
        "    sessionItemId = row['item_id'][0]\n",
        "\n",
        "    dist_row = distanceMatrix.loc[[sessionItemId]]\n",
        "\n",
        "    dist_row_dict = dist_row.to_dict(orient='records')\n",
        "\n",
        "    dist_row_dict_sorted = dict(sorted(dist_row_dict[0].items(), key=lambda item: item[1]))\n",
        "\n",
        "    dist_row_dict_sorted_top_100 = dict(list(dist_row_dict_sorted.items())[:100])\n",
        "\n",
        "    itemRank = 1;\n",
        "\n",
        "    for key in dist_row_dict_sorted_top_100:\n",
        "\n",
        "      ser_i = pd.Series({'session_id':row['session_id'],\n",
        "                    'item_id': key,\n",
        "                    'rank':itemRank})\n",
        "      itemRank += 1\n",
        "\n",
        "      df_current = df_current.append(ser_i, ignore_index=True)\n",
        "\n",
        "    i += 1\n",
        "  \n",
        "  return df_current\n",
        "\n",
        "    "
      ],
      "metadata": {
        "id": "T1-Bl2CgmhpH"
      },
      "execution_count": null,
      "outputs": []
    },
    {
      "cell_type": "code",
      "source": [
        "dataFrame = createSessionDataFrame(train_session_sessionId_group_dataframe);"
      ],
      "metadata": {
        "id": "NXkYL2Wykojl",
        "colab": {
          "base_uri": "https://localhost:8080/",
          "height": 311
        },
        "outputId": "b6889303-7623-4c4c-ac4d-9acc2225e498"
      },
      "execution_count": null,
      "outputs": [
        {
          "output_type": "error",
          "ename": "KeyboardInterrupt",
          "evalue": "ignored",
          "traceback": [
            "\u001b[0;31m---------------------------------------------------------------------------\u001b[0m",
            "\u001b[0;31mKeyboardInterrupt\u001b[0m                         Traceback (most recent call last)",
            "\u001b[0;32m<ipython-input-44-df10e7e53f3e>\u001b[0m in \u001b[0;36m<module>\u001b[0;34m()\u001b[0m\n\u001b[0;32m----> 1\u001b[0;31m \u001b[0mdataFrame\u001b[0m \u001b[0;34m=\u001b[0m \u001b[0mcreateSessionDataFrame\u001b[0m\u001b[0;34m(\u001b[0m\u001b[0mtrain_session_sessionId_group_dataframe\u001b[0m\u001b[0;34m)\u001b[0m\u001b[0;34m;\u001b[0m\u001b[0;34m\u001b[0m\u001b[0;34m\u001b[0m\u001b[0m\n\u001b[0m",
            "\u001b[0;32m<ipython-input-43-09d5cd4d4763>\u001b[0m in \u001b[0;36mcreateSessionDataFrame\u001b[0;34m(sessionGroupDict)\u001b[0m\n\u001b[1;32m     13\u001b[0m     \u001b[0mdist_row\u001b[0m \u001b[0;34m=\u001b[0m \u001b[0mdistanceMatrix\u001b[0m\u001b[0;34m.\u001b[0m\u001b[0mloc\u001b[0m\u001b[0;34m[\u001b[0m\u001b[0;34m[\u001b[0m\u001b[0msessionItemId\u001b[0m\u001b[0;34m]\u001b[0m\u001b[0;34m]\u001b[0m\u001b[0;34m\u001b[0m\u001b[0;34m\u001b[0m\u001b[0m\n\u001b[1;32m     14\u001b[0m \u001b[0;34m\u001b[0m\u001b[0m\n\u001b[0;32m---> 15\u001b[0;31m     \u001b[0mdist_row_dict\u001b[0m \u001b[0;34m=\u001b[0m \u001b[0mdist_row\u001b[0m\u001b[0;34m.\u001b[0m\u001b[0mto_dict\u001b[0m\u001b[0;34m(\u001b[0m\u001b[0morient\u001b[0m\u001b[0;34m=\u001b[0m\u001b[0;34m'records'\u001b[0m\u001b[0;34m)\u001b[0m\u001b[0;34m\u001b[0m\u001b[0;34m\u001b[0m\u001b[0m\n\u001b[0m\u001b[1;32m     16\u001b[0m \u001b[0;34m\u001b[0m\u001b[0m\n\u001b[1;32m     17\u001b[0m     \u001b[0mdist_row_dict_sorted\u001b[0m \u001b[0;34m=\u001b[0m \u001b[0mdict\u001b[0m\u001b[0;34m(\u001b[0m\u001b[0msorted\u001b[0m\u001b[0;34m(\u001b[0m\u001b[0mdist_row_dict\u001b[0m\u001b[0;34m[\u001b[0m\u001b[0;36m0\u001b[0m\u001b[0;34m]\u001b[0m\u001b[0;34m.\u001b[0m\u001b[0mitems\u001b[0m\u001b[0;34m(\u001b[0m\u001b[0;34m)\u001b[0m\u001b[0;34m,\u001b[0m \u001b[0mkey\u001b[0m\u001b[0;34m=\u001b[0m\u001b[0;32mlambda\u001b[0m \u001b[0mitem\u001b[0m\u001b[0;34m:\u001b[0m \u001b[0mitem\u001b[0m\u001b[0;34m[\u001b[0m\u001b[0;36m1\u001b[0m\u001b[0;34m]\u001b[0m\u001b[0;34m)\u001b[0m\u001b[0;34m)\u001b[0m\u001b[0;34m\u001b[0m\u001b[0;34m\u001b[0m\u001b[0m\n",
            "\u001b[0;32m/usr/local/lib/python3.7/dist-packages/pandas/core/frame.py\u001b[0m in \u001b[0;36mto_dict\u001b[0;34m(self, orient, into)\u001b[0m\n\u001b[1;32m   1821\u001b[0m             )\n\u001b[1;32m   1822\u001b[0m             return [\n\u001b[0;32m-> 1823\u001b[0;31m                 \u001b[0minto_c\u001b[0m\u001b[0;34m(\u001b[0m\u001b[0;34m(\u001b[0m\u001b[0mk\u001b[0m\u001b[0;34m,\u001b[0m \u001b[0mmaybe_box_native\u001b[0m\u001b[0;34m(\u001b[0m\u001b[0mv\u001b[0m\u001b[0;34m)\u001b[0m\u001b[0;34m)\u001b[0m \u001b[0;32mfor\u001b[0m \u001b[0mk\u001b[0m\u001b[0;34m,\u001b[0m \u001b[0mv\u001b[0m \u001b[0;32min\u001b[0m \u001b[0mrow\u001b[0m\u001b[0;34m.\u001b[0m\u001b[0mitems\u001b[0m\u001b[0;34m(\u001b[0m\u001b[0;34m)\u001b[0m\u001b[0;34m)\u001b[0m \u001b[0;32mfor\u001b[0m \u001b[0mrow\u001b[0m \u001b[0;32min\u001b[0m \u001b[0mrows\u001b[0m\u001b[0;34m\u001b[0m\u001b[0;34m\u001b[0m\u001b[0m\n\u001b[0m\u001b[1;32m   1824\u001b[0m             ]\n\u001b[1;32m   1825\u001b[0m \u001b[0;34m\u001b[0m\u001b[0m\n",
            "\u001b[0;32m/usr/local/lib/python3.7/dist-packages/pandas/core/frame.py\u001b[0m in \u001b[0;36m<listcomp>\u001b[0;34m(.0)\u001b[0m\n\u001b[1;32m   1821\u001b[0m             )\n\u001b[1;32m   1822\u001b[0m             return [\n\u001b[0;32m-> 1823\u001b[0;31m                 \u001b[0minto_c\u001b[0m\u001b[0;34m(\u001b[0m\u001b[0;34m(\u001b[0m\u001b[0mk\u001b[0m\u001b[0;34m,\u001b[0m \u001b[0mmaybe_box_native\u001b[0m\u001b[0;34m(\u001b[0m\u001b[0mv\u001b[0m\u001b[0;34m)\u001b[0m\u001b[0;34m)\u001b[0m \u001b[0;32mfor\u001b[0m \u001b[0mk\u001b[0m\u001b[0;34m,\u001b[0m \u001b[0mv\u001b[0m \u001b[0;32min\u001b[0m \u001b[0mrow\u001b[0m\u001b[0;34m.\u001b[0m\u001b[0mitems\u001b[0m\u001b[0;34m(\u001b[0m\u001b[0;34m)\u001b[0m\u001b[0;34m)\u001b[0m \u001b[0;32mfor\u001b[0m \u001b[0mrow\u001b[0m \u001b[0;32min\u001b[0m \u001b[0mrows\u001b[0m\u001b[0;34m\u001b[0m\u001b[0;34m\u001b[0m\u001b[0m\n\u001b[0m\u001b[1;32m   1824\u001b[0m             ]\n\u001b[1;32m   1825\u001b[0m \u001b[0;34m\u001b[0m\u001b[0m\n",
            "\u001b[0;31mKeyboardInterrupt\u001b[0m: "
          ]
        }
      ]
    },
    {
      "cell_type": "code",
      "source": [
        "dataFrame"
      ],
      "metadata": {
        "colab": {
          "base_uri": "https://localhost:8080/",
          "height": 424
        },
        "id": "_RBCM-w5iDfr",
        "outputId": "292eae6d-69e3-45e0-c4cd-46a81d06633f"
      },
      "execution_count": null,
      "outputs": [
        {
          "output_type": "execute_result",
          "data": {
            "text/plain": [
              "     session_id item_id rank\n",
              "0             3    9655    1\n",
              "1             3    7104    2\n",
              "2             3     903    3\n",
              "3             3   27603    4\n",
              "4             3     143    5\n",
              "...         ...     ...  ...\n",
              "4995        315   11046   96\n",
              "4996        315    3966   97\n",
              "4997        315   17487   98\n",
              "4998        315   21174   99\n",
              "4999        315   20094  100\n",
              "\n",
              "[5000 rows x 3 columns]"
            ],
            "text/html": [
              "\n",
              "  <div id=\"df-9e401c56-4df5-483b-a8d4-5f3cc079a9e8\">\n",
              "    <div class=\"colab-df-container\">\n",
              "      <div>\n",
              "<style scoped>\n",
              "    .dataframe tbody tr th:only-of-type {\n",
              "        vertical-align: middle;\n",
              "    }\n",
              "\n",
              "    .dataframe tbody tr th {\n",
              "        vertical-align: top;\n",
              "    }\n",
              "\n",
              "    .dataframe thead th {\n",
              "        text-align: right;\n",
              "    }\n",
              "</style>\n",
              "<table border=\"1\" class=\"dataframe\">\n",
              "  <thead>\n",
              "    <tr style=\"text-align: right;\">\n",
              "      <th></th>\n",
              "      <th>session_id</th>\n",
              "      <th>item_id</th>\n",
              "      <th>rank</th>\n",
              "    </tr>\n",
              "  </thead>\n",
              "  <tbody>\n",
              "    <tr>\n",
              "      <th>0</th>\n",
              "      <td>3</td>\n",
              "      <td>9655</td>\n",
              "      <td>1</td>\n",
              "    </tr>\n",
              "    <tr>\n",
              "      <th>1</th>\n",
              "      <td>3</td>\n",
              "      <td>7104</td>\n",
              "      <td>2</td>\n",
              "    </tr>\n",
              "    <tr>\n",
              "      <th>2</th>\n",
              "      <td>3</td>\n",
              "      <td>903</td>\n",
              "      <td>3</td>\n",
              "    </tr>\n",
              "    <tr>\n",
              "      <th>3</th>\n",
              "      <td>3</td>\n",
              "      <td>27603</td>\n",
              "      <td>4</td>\n",
              "    </tr>\n",
              "    <tr>\n",
              "      <th>4</th>\n",
              "      <td>3</td>\n",
              "      <td>143</td>\n",
              "      <td>5</td>\n",
              "    </tr>\n",
              "    <tr>\n",
              "      <th>...</th>\n",
              "      <td>...</td>\n",
              "      <td>...</td>\n",
              "      <td>...</td>\n",
              "    </tr>\n",
              "    <tr>\n",
              "      <th>4995</th>\n",
              "      <td>315</td>\n",
              "      <td>11046</td>\n",
              "      <td>96</td>\n",
              "    </tr>\n",
              "    <tr>\n",
              "      <th>4996</th>\n",
              "      <td>315</td>\n",
              "      <td>3966</td>\n",
              "      <td>97</td>\n",
              "    </tr>\n",
              "    <tr>\n",
              "      <th>4997</th>\n",
              "      <td>315</td>\n",
              "      <td>17487</td>\n",
              "      <td>98</td>\n",
              "    </tr>\n",
              "    <tr>\n",
              "      <th>4998</th>\n",
              "      <td>315</td>\n",
              "      <td>21174</td>\n",
              "      <td>99</td>\n",
              "    </tr>\n",
              "    <tr>\n",
              "      <th>4999</th>\n",
              "      <td>315</td>\n",
              "      <td>20094</td>\n",
              "      <td>100</td>\n",
              "    </tr>\n",
              "  </tbody>\n",
              "</table>\n",
              "<p>5000 rows × 3 columns</p>\n",
              "</div>\n",
              "      <button class=\"colab-df-convert\" onclick=\"convertToInteractive('df-9e401c56-4df5-483b-a8d4-5f3cc079a9e8')\"\n",
              "              title=\"Convert this dataframe to an interactive table.\"\n",
              "              style=\"display:none;\">\n",
              "        \n",
              "  <svg xmlns=\"http://www.w3.org/2000/svg\" height=\"24px\"viewBox=\"0 0 24 24\"\n",
              "       width=\"24px\">\n",
              "    <path d=\"M0 0h24v24H0V0z\" fill=\"none\"/>\n",
              "    <path d=\"M18.56 5.44l.94 2.06.94-2.06 2.06-.94-2.06-.94-.94-2.06-.94 2.06-2.06.94zm-11 1L8.5 8.5l.94-2.06 2.06-.94-2.06-.94L8.5 2.5l-.94 2.06-2.06.94zm10 10l.94 2.06.94-2.06 2.06-.94-2.06-.94-.94-2.06-.94 2.06-2.06.94z\"/><path d=\"M17.41 7.96l-1.37-1.37c-.4-.4-.92-.59-1.43-.59-.52 0-1.04.2-1.43.59L10.3 9.45l-7.72 7.72c-.78.78-.78 2.05 0 2.83L4 21.41c.39.39.9.59 1.41.59.51 0 1.02-.2 1.41-.59l7.78-7.78 2.81-2.81c.8-.78.8-2.07 0-2.86zM5.41 20L4 18.59l7.72-7.72 1.47 1.35L5.41 20z\"/>\n",
              "  </svg>\n",
              "      </button>\n",
              "      \n",
              "  <style>\n",
              "    .colab-df-container {\n",
              "      display:flex;\n",
              "      flex-wrap:wrap;\n",
              "      gap: 12px;\n",
              "    }\n",
              "\n",
              "    .colab-df-convert {\n",
              "      background-color: #E8F0FE;\n",
              "      border: none;\n",
              "      border-radius: 50%;\n",
              "      cursor: pointer;\n",
              "      display: none;\n",
              "      fill: #1967D2;\n",
              "      height: 32px;\n",
              "      padding: 0 0 0 0;\n",
              "      width: 32px;\n",
              "    }\n",
              "\n",
              "    .colab-df-convert:hover {\n",
              "      background-color: #E2EBFA;\n",
              "      box-shadow: 0px 1px 2px rgba(60, 64, 67, 0.3), 0px 1px 3px 1px rgba(60, 64, 67, 0.15);\n",
              "      fill: #174EA6;\n",
              "    }\n",
              "\n",
              "    [theme=dark] .colab-df-convert {\n",
              "      background-color: #3B4455;\n",
              "      fill: #D2E3FC;\n",
              "    }\n",
              "\n",
              "    [theme=dark] .colab-df-convert:hover {\n",
              "      background-color: #434B5C;\n",
              "      box-shadow: 0px 1px 3px 1px rgba(0, 0, 0, 0.15);\n",
              "      filter: drop-shadow(0px 1px 2px rgba(0, 0, 0, 0.3));\n",
              "      fill: #FFFFFF;\n",
              "    }\n",
              "  </style>\n",
              "\n",
              "      <script>\n",
              "        const buttonEl =\n",
              "          document.querySelector('#df-9e401c56-4df5-483b-a8d4-5f3cc079a9e8 button.colab-df-convert');\n",
              "        buttonEl.style.display =\n",
              "          google.colab.kernel.accessAllowed ? 'block' : 'none';\n",
              "\n",
              "        async function convertToInteractive(key) {\n",
              "          const element = document.querySelector('#df-9e401c56-4df5-483b-a8d4-5f3cc079a9e8');\n",
              "          const dataTable =\n",
              "            await google.colab.kernel.invokeFunction('convertToInteractive',\n",
              "                                                     [key], {});\n",
              "          if (!dataTable) return;\n",
              "\n",
              "          const docLinkHtml = 'Like what you see? Visit the ' +\n",
              "            '<a target=\"_blank\" href=https://colab.research.google.com/notebooks/data_table.ipynb>data table notebook</a>'\n",
              "            + ' to learn more about interactive tables.';\n",
              "          element.innerHTML = '';\n",
              "          dataTable['output_type'] = 'display_data';\n",
              "          await google.colab.output.renderOutput(dataTable, element);\n",
              "          const docLink = document.createElement('div');\n",
              "          docLink.innerHTML = docLinkHtml;\n",
              "          element.appendChild(docLink);\n",
              "        }\n",
              "      </script>\n",
              "    </div>\n",
              "  </div>\n",
              "  "
            ]
          },
          "metadata": {},
          "execution_count": 87
        }
      ]
    },
    {
      "cell_type": "code",
      "source": [
        "test_dings = dataFrame[(dataFrame['session_id'] == 77) & (dataFrame['item_id'] == 4243)]"
      ],
      "metadata": {
        "id": "PxTCow7Bie5C"
      },
      "execution_count": null,
      "outputs": []
    },
    {
      "cell_type": "code",
      "source": [
        "test_dings.empty"
      ],
      "metadata": {
        "colab": {
          "base_uri": "https://localhost:8080/"
        },
        "id": "z0_Fb1lXnxHZ",
        "outputId": "c2939e22-41a9-433e-86b0-b9cf76cd6371"
      },
      "execution_count": null,
      "outputs": [
        {
          "output_type": "execute_result",
          "data": {
            "text/plain": [
              "True"
            ]
          },
          "metadata": {},
          "execution_count": 101
        }
      ]
    },
    {
      "cell_type": "code",
      "source": [
        "not True "
      ],
      "metadata": {
        "colab": {
          "base_uri": "https://localhost:8080/"
        },
        "id": "qw9GPQB7nzao",
        "outputId": "104df0f7-23c9-4130-afde-df7a4e871b55"
      },
      "execution_count": null,
      "outputs": [
        {
          "output_type": "execute_result",
          "data": {
            "text/plain": [
              "False"
            ]
          },
          "metadata": {},
          "execution_count": 104
        }
      ]
    },
    {
      "cell_type": "markdown",
      "source": [
        "Der algo soll nun erweitert werden so dass alle items betrachtet werden "
      ],
      "metadata": {
        "id": "h2u3nopsm1gE"
      }
    },
    {
      "cell_type": "code",
      "source": [
        "def createSessionDataFrameWithAllItems(sessionGroupDict):\n",
        "  df_current = pd.DataFrame(columns=['session_id', 'item_id', 'rank'])\n",
        "\n",
        "  i = 0\n",
        "\n",
        "  for index, row in sessionGroupDict.iterrows():    \n",
        "\n",
        "    if i == 10:\n",
        "      break;\n",
        "\n",
        "    length_of_items = len(row[\"item_id\"]);\n",
        "\n",
        "    for j in range(1, 101):\n",
        "\n",
        "      selectedItemId = randint(0, length_of_items - 1);\n",
        "\n",
        "      sessionItemId = row['item_id'][selectedItemId]\n",
        "\n",
        "      dist_row = distanceMatrix.loc[[sessionItemId]]\n",
        "\n",
        "      dist_row_dict = dist_row.to_dict(orient='records')\n",
        "\n",
        "      dist_row_dict_sorted = dict(sorted(dist_row_dict[0].items(), key=lambda item: item[1]))\n",
        "\n",
        "      dist_row_dict_sorted_top_100 = dict(list(dist_row_dict_sorted.items()))\n",
        "\n",
        "      for key in dist_row_dict_sorted_top_100:\n",
        "\n",
        "        key_does_not_exists = df_current[(df_current['session_id'] == row['session_id']) & (df_current['item_id'] == key)].empty\n",
        "\n",
        "        if not key_does_not_exists:\n",
        "          continue\n",
        "        \n",
        "        ser_i = pd.Series({'session_id':row['session_id'],\n",
        "                    'item_id': key,\n",
        "                    'rank':j})\n",
        "\n",
        "        df_current = df_current.append(ser_i, ignore_index=True)\n",
        "\n",
        "        break\n",
        "\n",
        "    i += 1\n",
        "\n",
        "  return df_current"
      ],
      "metadata": {
        "id": "iej5CXWwm8oy"
      },
      "execution_count": null,
      "outputs": []
    },
    {
      "cell_type": "code",
      "source": [
        "dataFrame2 = createSessionDataFrameWithAllItems(train_session_sessionId_group_dataframe);\n",
        "dataFrame2"
      ],
      "metadata": {
        "id": "Gace6tHbqH0b"
      },
      "execution_count": null,
      "outputs": []
    },
    {
      "cell_type": "code",
      "source": [
        "dataFrame2"
      ],
      "metadata": {
        "colab": {
          "base_uri": "https://localhost:8080/",
          "height": 424
        },
        "id": "YVcV0-K_y7Gz",
        "outputId": "1a679834-eae4-4de2-cb8d-5838f2e21826"
      },
      "execution_count": null,
      "outputs": [
        {
          "output_type": "execute_result",
          "data": {
            "text/plain": [
              "    session_id item_id rank\n",
              "0            3    9655    1\n",
              "1            3    7104    2\n",
              "2            3     903    3\n",
              "3            3   27603    4\n",
              "4            3     143    5\n",
              "..         ...     ...  ...\n",
              "995         44   15403   96\n",
              "996         44    8154   97\n",
              "997         44   19537   98\n",
              "998         44   12436   99\n",
              "999         44    5255  100\n",
              "\n",
              "[1000 rows x 3 columns]"
            ],
            "text/html": [
              "\n",
              "  <div id=\"df-e1b93240-53d6-4548-b93a-cd82f6b1dd49\">\n",
              "    <div class=\"colab-df-container\">\n",
              "      <div>\n",
              "<style scoped>\n",
              "    .dataframe tbody tr th:only-of-type {\n",
              "        vertical-align: middle;\n",
              "    }\n",
              "\n",
              "    .dataframe tbody tr th {\n",
              "        vertical-align: top;\n",
              "    }\n",
              "\n",
              "    .dataframe thead th {\n",
              "        text-align: right;\n",
              "    }\n",
              "</style>\n",
              "<table border=\"1\" class=\"dataframe\">\n",
              "  <thead>\n",
              "    <tr style=\"text-align: right;\">\n",
              "      <th></th>\n",
              "      <th>session_id</th>\n",
              "      <th>item_id</th>\n",
              "      <th>rank</th>\n",
              "    </tr>\n",
              "  </thead>\n",
              "  <tbody>\n",
              "    <tr>\n",
              "      <th>0</th>\n",
              "      <td>3</td>\n",
              "      <td>9655</td>\n",
              "      <td>1</td>\n",
              "    </tr>\n",
              "    <tr>\n",
              "      <th>1</th>\n",
              "      <td>3</td>\n",
              "      <td>7104</td>\n",
              "      <td>2</td>\n",
              "    </tr>\n",
              "    <tr>\n",
              "      <th>2</th>\n",
              "      <td>3</td>\n",
              "      <td>903</td>\n",
              "      <td>3</td>\n",
              "    </tr>\n",
              "    <tr>\n",
              "      <th>3</th>\n",
              "      <td>3</td>\n",
              "      <td>27603</td>\n",
              "      <td>4</td>\n",
              "    </tr>\n",
              "    <tr>\n",
              "      <th>4</th>\n",
              "      <td>3</td>\n",
              "      <td>143</td>\n",
              "      <td>5</td>\n",
              "    </tr>\n",
              "    <tr>\n",
              "      <th>...</th>\n",
              "      <td>...</td>\n",
              "      <td>...</td>\n",
              "      <td>...</td>\n",
              "    </tr>\n",
              "    <tr>\n",
              "      <th>995</th>\n",
              "      <td>44</td>\n",
              "      <td>15403</td>\n",
              "      <td>96</td>\n",
              "    </tr>\n",
              "    <tr>\n",
              "      <th>996</th>\n",
              "      <td>44</td>\n",
              "      <td>8154</td>\n",
              "      <td>97</td>\n",
              "    </tr>\n",
              "    <tr>\n",
              "      <th>997</th>\n",
              "      <td>44</td>\n",
              "      <td>19537</td>\n",
              "      <td>98</td>\n",
              "    </tr>\n",
              "    <tr>\n",
              "      <th>998</th>\n",
              "      <td>44</td>\n",
              "      <td>12436</td>\n",
              "      <td>99</td>\n",
              "    </tr>\n",
              "    <tr>\n",
              "      <th>999</th>\n",
              "      <td>44</td>\n",
              "      <td>5255</td>\n",
              "      <td>100</td>\n",
              "    </tr>\n",
              "  </tbody>\n",
              "</table>\n",
              "<p>1000 rows × 3 columns</p>\n",
              "</div>\n",
              "      <button class=\"colab-df-convert\" onclick=\"convertToInteractive('df-e1b93240-53d6-4548-b93a-cd82f6b1dd49')\"\n",
              "              title=\"Convert this dataframe to an interactive table.\"\n",
              "              style=\"display:none;\">\n",
              "        \n",
              "  <svg xmlns=\"http://www.w3.org/2000/svg\" height=\"24px\"viewBox=\"0 0 24 24\"\n",
              "       width=\"24px\">\n",
              "    <path d=\"M0 0h24v24H0V0z\" fill=\"none\"/>\n",
              "    <path d=\"M18.56 5.44l.94 2.06.94-2.06 2.06-.94-2.06-.94-.94-2.06-.94 2.06-2.06.94zm-11 1L8.5 8.5l.94-2.06 2.06-.94-2.06-.94L8.5 2.5l-.94 2.06-2.06.94zm10 10l.94 2.06.94-2.06 2.06-.94-2.06-.94-.94-2.06-.94 2.06-2.06.94z\"/><path d=\"M17.41 7.96l-1.37-1.37c-.4-.4-.92-.59-1.43-.59-.52 0-1.04.2-1.43.59L10.3 9.45l-7.72 7.72c-.78.78-.78 2.05 0 2.83L4 21.41c.39.39.9.59 1.41.59.51 0 1.02-.2 1.41-.59l7.78-7.78 2.81-2.81c.8-.78.8-2.07 0-2.86zM5.41 20L4 18.59l7.72-7.72 1.47 1.35L5.41 20z\"/>\n",
              "  </svg>\n",
              "      </button>\n",
              "      \n",
              "  <style>\n",
              "    .colab-df-container {\n",
              "      display:flex;\n",
              "      flex-wrap:wrap;\n",
              "      gap: 12px;\n",
              "    }\n",
              "\n",
              "    .colab-df-convert {\n",
              "      background-color: #E8F0FE;\n",
              "      border: none;\n",
              "      border-radius: 50%;\n",
              "      cursor: pointer;\n",
              "      display: none;\n",
              "      fill: #1967D2;\n",
              "      height: 32px;\n",
              "      padding: 0 0 0 0;\n",
              "      width: 32px;\n",
              "    }\n",
              "\n",
              "    .colab-df-convert:hover {\n",
              "      background-color: #E2EBFA;\n",
              "      box-shadow: 0px 1px 2px rgba(60, 64, 67, 0.3), 0px 1px 3px 1px rgba(60, 64, 67, 0.15);\n",
              "      fill: #174EA6;\n",
              "    }\n",
              "\n",
              "    [theme=dark] .colab-df-convert {\n",
              "      background-color: #3B4455;\n",
              "      fill: #D2E3FC;\n",
              "    }\n",
              "\n",
              "    [theme=dark] .colab-df-convert:hover {\n",
              "      background-color: #434B5C;\n",
              "      box-shadow: 0px 1px 3px 1px rgba(0, 0, 0, 0.15);\n",
              "      filter: drop-shadow(0px 1px 2px rgba(0, 0, 0, 0.3));\n",
              "      fill: #FFFFFF;\n",
              "    }\n",
              "  </style>\n",
              "\n",
              "      <script>\n",
              "        const buttonEl =\n",
              "          document.querySelector('#df-e1b93240-53d6-4548-b93a-cd82f6b1dd49 button.colab-df-convert');\n",
              "        buttonEl.style.display =\n",
              "          google.colab.kernel.accessAllowed ? 'block' : 'none';\n",
              "\n",
              "        async function convertToInteractive(key) {\n",
              "          const element = document.querySelector('#df-e1b93240-53d6-4548-b93a-cd82f6b1dd49');\n",
              "          const dataTable =\n",
              "            await google.colab.kernel.invokeFunction('convertToInteractive',\n",
              "                                                     [key], {});\n",
              "          if (!dataTable) return;\n",
              "\n",
              "          const docLinkHtml = 'Like what you see? Visit the ' +\n",
              "            '<a target=\"_blank\" href=https://colab.research.google.com/notebooks/data_table.ipynb>data table notebook</a>'\n",
              "            + ' to learn more about interactive tables.';\n",
              "          element.innerHTML = '';\n",
              "          dataTable['output_type'] = 'display_data';\n",
              "          await google.colab.output.renderOutput(dataTable, element);\n",
              "          const docLink = document.createElement('div');\n",
              "          docLink.innerHTML = docLinkHtml;\n",
              "          element.appendChild(docLink);\n",
              "        }\n",
              "      </script>\n",
              "    </div>\n",
              "  </div>\n",
              "  "
            ]
          },
          "metadata": {},
          "execution_count": 123
        }
      ]
    },
    {
      "cell_type": "code",
      "source": [
        "test_dings = dataFrame[(dataFrame['session_id'] == 13) & (dataFrame['item_id'] == 18626)]"
      ],
      "metadata": {
        "id": "CIJGk9ErzCjc"
      },
      "execution_count": null,
      "outputs": []
    },
    {
      "cell_type": "code",
      "source": [
        "test_dings"
      ],
      "metadata": {
        "id": "gecqg6bazKsJ",
        "outputId": "d40725c6-878c-45d6-aae3-52ab055271a9",
        "colab": {
          "base_uri": "https://localhost:8080/",
          "height": 49
        }
      },
      "execution_count": null,
      "outputs": [
        {
          "output_type": "execute_result",
          "data": {
            "text/plain": [
              "Empty DataFrame\n",
              "Columns: [session_id, item_id, rank]\n",
              "Index: []"
            ],
            "text/html": [
              "\n",
              "  <div id=\"df-b67c670b-6c15-4791-9629-f13ef1946b7a\">\n",
              "    <div class=\"colab-df-container\">\n",
              "      <div>\n",
              "<style scoped>\n",
              "    .dataframe tbody tr th:only-of-type {\n",
              "        vertical-align: middle;\n",
              "    }\n",
              "\n",
              "    .dataframe tbody tr th {\n",
              "        vertical-align: top;\n",
              "    }\n",
              "\n",
              "    .dataframe thead th {\n",
              "        text-align: right;\n",
              "    }\n",
              "</style>\n",
              "<table border=\"1\" class=\"dataframe\">\n",
              "  <thead>\n",
              "    <tr style=\"text-align: right;\">\n",
              "      <th></th>\n",
              "      <th>session_id</th>\n",
              "      <th>item_id</th>\n",
              "      <th>rank</th>\n",
              "    </tr>\n",
              "  </thead>\n",
              "  <tbody>\n",
              "  </tbody>\n",
              "</table>\n",
              "</div>\n",
              "      <button class=\"colab-df-convert\" onclick=\"convertToInteractive('df-b67c670b-6c15-4791-9629-f13ef1946b7a')\"\n",
              "              title=\"Convert this dataframe to an interactive table.\"\n",
              "              style=\"display:none;\">\n",
              "        \n",
              "  <svg xmlns=\"http://www.w3.org/2000/svg\" height=\"24px\"viewBox=\"0 0 24 24\"\n",
              "       width=\"24px\">\n",
              "    <path d=\"M0 0h24v24H0V0z\" fill=\"none\"/>\n",
              "    <path d=\"M18.56 5.44l.94 2.06.94-2.06 2.06-.94-2.06-.94-.94-2.06-.94 2.06-2.06.94zm-11 1L8.5 8.5l.94-2.06 2.06-.94-2.06-.94L8.5 2.5l-.94 2.06-2.06.94zm10 10l.94 2.06.94-2.06 2.06-.94-2.06-.94-.94-2.06-.94 2.06-2.06.94z\"/><path d=\"M17.41 7.96l-1.37-1.37c-.4-.4-.92-.59-1.43-.59-.52 0-1.04.2-1.43.59L10.3 9.45l-7.72 7.72c-.78.78-.78 2.05 0 2.83L4 21.41c.39.39.9.59 1.41.59.51 0 1.02-.2 1.41-.59l7.78-7.78 2.81-2.81c.8-.78.8-2.07 0-2.86zM5.41 20L4 18.59l7.72-7.72 1.47 1.35L5.41 20z\"/>\n",
              "  </svg>\n",
              "      </button>\n",
              "      \n",
              "  <style>\n",
              "    .colab-df-container {\n",
              "      display:flex;\n",
              "      flex-wrap:wrap;\n",
              "      gap: 12px;\n",
              "    }\n",
              "\n",
              "    .colab-df-convert {\n",
              "      background-color: #E8F0FE;\n",
              "      border: none;\n",
              "      border-radius: 50%;\n",
              "      cursor: pointer;\n",
              "      display: none;\n",
              "      fill: #1967D2;\n",
              "      height: 32px;\n",
              "      padding: 0 0 0 0;\n",
              "      width: 32px;\n",
              "    }\n",
              "\n",
              "    .colab-df-convert:hover {\n",
              "      background-color: #E2EBFA;\n",
              "      box-shadow: 0px 1px 2px rgba(60, 64, 67, 0.3), 0px 1px 3px 1px rgba(60, 64, 67, 0.15);\n",
              "      fill: #174EA6;\n",
              "    }\n",
              "\n",
              "    [theme=dark] .colab-df-convert {\n",
              "      background-color: #3B4455;\n",
              "      fill: #D2E3FC;\n",
              "    }\n",
              "\n",
              "    [theme=dark] .colab-df-convert:hover {\n",
              "      background-color: #434B5C;\n",
              "      box-shadow: 0px 1px 3px 1px rgba(0, 0, 0, 0.15);\n",
              "      filter: drop-shadow(0px 1px 2px rgba(0, 0, 0, 0.3));\n",
              "      fill: #FFFFFF;\n",
              "    }\n",
              "  </style>\n",
              "\n",
              "      <script>\n",
              "        const buttonEl =\n",
              "          document.querySelector('#df-b67c670b-6c15-4791-9629-f13ef1946b7a button.colab-df-convert');\n",
              "        buttonEl.style.display =\n",
              "          google.colab.kernel.accessAllowed ? 'block' : 'none';\n",
              "\n",
              "        async function convertToInteractive(key) {\n",
              "          const element = document.querySelector('#df-b67c670b-6c15-4791-9629-f13ef1946b7a');\n",
              "          const dataTable =\n",
              "            await google.colab.kernel.invokeFunction('convertToInteractive',\n",
              "                                                     [key], {});\n",
              "          if (!dataTable) return;\n",
              "\n",
              "          const docLinkHtml = 'Like what you see? Visit the ' +\n",
              "            '<a target=\"_blank\" href=https://colab.research.google.com/notebooks/data_table.ipynb>data table notebook</a>'\n",
              "            + ' to learn more about interactive tables.';\n",
              "          element.innerHTML = '';\n",
              "          dataTable['output_type'] = 'display_data';\n",
              "          await google.colab.output.renderOutput(dataTable, element);\n",
              "          const docLink = document.createElement('div');\n",
              "          docLink.innerHTML = docLinkHtml;\n",
              "          element.appendChild(docLink);\n",
              "        }\n",
              "      </script>\n",
              "    </div>\n",
              "  </div>\n",
              "  "
            ]
          },
          "metadata": {},
          "execution_count": 125
        }
      ]
    },
    {
      "cell_type": "markdown",
      "source": [
        "Ein weiterer ansatzt wäre die komplette evaluirung auf dem letzten item was angeschaut wurde "
      ],
      "metadata": {
        "id": "xWvlnB14dweV"
      }
    },
    {
      "cell_type": "code",
      "source": [
        "def createSessionDataFrameWithLastItemViewed(sessionGroupDict):\n",
        "  df_current = pd.DataFrame(columns=['session_id', 'item_id', 'rank'])\n",
        "\n",
        "  i = 0\n",
        "\n",
        "  for index, row in sessionGroupDict.iterrows():    \n",
        "\n",
        "    if i == 10:\n",
        "      break;\n",
        "\n",
        "    last_item_view_index = row['date'].index(max(row['date']))\n",
        "\n",
        "    sessionItemId = row['item_id'][last_item_view_index]\n",
        "\n",
        "    dist_row = distanceMatrix.loc[[sessionItemId]]\n",
        "\n",
        "    dist_row_dict = dist_row.to_dict(orient='records')\n",
        "\n",
        "    dist_row_dict_sorted = dict(sorted(dist_row_dict[0].items(), key=lambda item: item[1]))\n",
        "\n",
        "    dist_row_dict_sorted_top_100 = dict(list(dist_row_dict_sorted.items())[:100])\n",
        "\n",
        "    itemRank = 1;\n",
        "\n",
        "    for key in dist_row_dict_sorted_top_100:\n",
        "\n",
        "      ser_i = pd.Series({'session_id':row['session_id'],\n",
        "                    'item_id': key,\n",
        "                    'rank':itemRank})\n",
        "      itemRank += 1\n",
        "\n",
        "      df_current = df_current.append(ser_i, ignore_index=True)\n",
        "\n",
        "    i += 1\n",
        "  \n",
        "  return df_current"
      ],
      "metadata": {
        "id": "i4anq9YBdvbA"
      },
      "execution_count": null,
      "outputs": []
    },
    {
      "cell_type": "code",
      "source": [
        "dataFrame3 = createSessionDataFrameWithLastItemViewed(train_session_sessionId_group_dataframe);\n",
        "dataFrame3"
      ],
      "metadata": {
        "colab": {
          "base_uri": "https://localhost:8080/",
          "height": 424
        },
        "id": "bP23TWy4fKs3",
        "outputId": "140b6201-8287-4a7c-b4ea-2e2a76b9add7"
      },
      "execution_count": null,
      "outputs": [
        {
          "output_type": "execute_result",
          "data": {
            "text/plain": [
              "    session_id item_id rank\n",
              "0            3    9655    1\n",
              "1            3    7104    2\n",
              "2            3     903    3\n",
              "3            3   27603    4\n",
              "4            3     143    5\n",
              "..         ...     ...  ...\n",
              "995         44   13089   96\n",
              "996         44     702   97\n",
              "997         44    3863   98\n",
              "998         44   10045   99\n",
              "999         44   22974  100\n",
              "\n",
              "[1000 rows x 3 columns]"
            ],
            "text/html": [
              "\n",
              "  <div id=\"df-50fd923a-1211-4da7-bafd-0e7034f39866\">\n",
              "    <div class=\"colab-df-container\">\n",
              "      <div>\n",
              "<style scoped>\n",
              "    .dataframe tbody tr th:only-of-type {\n",
              "        vertical-align: middle;\n",
              "    }\n",
              "\n",
              "    .dataframe tbody tr th {\n",
              "        vertical-align: top;\n",
              "    }\n",
              "\n",
              "    .dataframe thead th {\n",
              "        text-align: right;\n",
              "    }\n",
              "</style>\n",
              "<table border=\"1\" class=\"dataframe\">\n",
              "  <thead>\n",
              "    <tr style=\"text-align: right;\">\n",
              "      <th></th>\n",
              "      <th>session_id</th>\n",
              "      <th>item_id</th>\n",
              "      <th>rank</th>\n",
              "    </tr>\n",
              "  </thead>\n",
              "  <tbody>\n",
              "    <tr>\n",
              "      <th>0</th>\n",
              "      <td>3</td>\n",
              "      <td>9655</td>\n",
              "      <td>1</td>\n",
              "    </tr>\n",
              "    <tr>\n",
              "      <th>1</th>\n",
              "      <td>3</td>\n",
              "      <td>7104</td>\n",
              "      <td>2</td>\n",
              "    </tr>\n",
              "    <tr>\n",
              "      <th>2</th>\n",
              "      <td>3</td>\n",
              "      <td>903</td>\n",
              "      <td>3</td>\n",
              "    </tr>\n",
              "    <tr>\n",
              "      <th>3</th>\n",
              "      <td>3</td>\n",
              "      <td>27603</td>\n",
              "      <td>4</td>\n",
              "    </tr>\n",
              "    <tr>\n",
              "      <th>4</th>\n",
              "      <td>3</td>\n",
              "      <td>143</td>\n",
              "      <td>5</td>\n",
              "    </tr>\n",
              "    <tr>\n",
              "      <th>...</th>\n",
              "      <td>...</td>\n",
              "      <td>...</td>\n",
              "      <td>...</td>\n",
              "    </tr>\n",
              "    <tr>\n",
              "      <th>995</th>\n",
              "      <td>44</td>\n",
              "      <td>13089</td>\n",
              "      <td>96</td>\n",
              "    </tr>\n",
              "    <tr>\n",
              "      <th>996</th>\n",
              "      <td>44</td>\n",
              "      <td>702</td>\n",
              "      <td>97</td>\n",
              "    </tr>\n",
              "    <tr>\n",
              "      <th>997</th>\n",
              "      <td>44</td>\n",
              "      <td>3863</td>\n",
              "      <td>98</td>\n",
              "    </tr>\n",
              "    <tr>\n",
              "      <th>998</th>\n",
              "      <td>44</td>\n",
              "      <td>10045</td>\n",
              "      <td>99</td>\n",
              "    </tr>\n",
              "    <tr>\n",
              "      <th>999</th>\n",
              "      <td>44</td>\n",
              "      <td>22974</td>\n",
              "      <td>100</td>\n",
              "    </tr>\n",
              "  </tbody>\n",
              "</table>\n",
              "<p>1000 rows × 3 columns</p>\n",
              "</div>\n",
              "      <button class=\"colab-df-convert\" onclick=\"convertToInteractive('df-50fd923a-1211-4da7-bafd-0e7034f39866')\"\n",
              "              title=\"Convert this dataframe to an interactive table.\"\n",
              "              style=\"display:none;\">\n",
              "        \n",
              "  <svg xmlns=\"http://www.w3.org/2000/svg\" height=\"24px\"viewBox=\"0 0 24 24\"\n",
              "       width=\"24px\">\n",
              "    <path d=\"M0 0h24v24H0V0z\" fill=\"none\"/>\n",
              "    <path d=\"M18.56 5.44l.94 2.06.94-2.06 2.06-.94-2.06-.94-.94-2.06-.94 2.06-2.06.94zm-11 1L8.5 8.5l.94-2.06 2.06-.94-2.06-.94L8.5 2.5l-.94 2.06-2.06.94zm10 10l.94 2.06.94-2.06 2.06-.94-2.06-.94-.94-2.06-.94 2.06-2.06.94z\"/><path d=\"M17.41 7.96l-1.37-1.37c-.4-.4-.92-.59-1.43-.59-.52 0-1.04.2-1.43.59L10.3 9.45l-7.72 7.72c-.78.78-.78 2.05 0 2.83L4 21.41c.39.39.9.59 1.41.59.51 0 1.02-.2 1.41-.59l7.78-7.78 2.81-2.81c.8-.78.8-2.07 0-2.86zM5.41 20L4 18.59l7.72-7.72 1.47 1.35L5.41 20z\"/>\n",
              "  </svg>\n",
              "      </button>\n",
              "      \n",
              "  <style>\n",
              "    .colab-df-container {\n",
              "      display:flex;\n",
              "      flex-wrap:wrap;\n",
              "      gap: 12px;\n",
              "    }\n",
              "\n",
              "    .colab-df-convert {\n",
              "      background-color: #E8F0FE;\n",
              "      border: none;\n",
              "      border-radius: 50%;\n",
              "      cursor: pointer;\n",
              "      display: none;\n",
              "      fill: #1967D2;\n",
              "      height: 32px;\n",
              "      padding: 0 0 0 0;\n",
              "      width: 32px;\n",
              "    }\n",
              "\n",
              "    .colab-df-convert:hover {\n",
              "      background-color: #E2EBFA;\n",
              "      box-shadow: 0px 1px 2px rgba(60, 64, 67, 0.3), 0px 1px 3px 1px rgba(60, 64, 67, 0.15);\n",
              "      fill: #174EA6;\n",
              "    }\n",
              "\n",
              "    [theme=dark] .colab-df-convert {\n",
              "      background-color: #3B4455;\n",
              "      fill: #D2E3FC;\n",
              "    }\n",
              "\n",
              "    [theme=dark] .colab-df-convert:hover {\n",
              "      background-color: #434B5C;\n",
              "      box-shadow: 0px 1px 3px 1px rgba(0, 0, 0, 0.15);\n",
              "      filter: drop-shadow(0px 1px 2px rgba(0, 0, 0, 0.3));\n",
              "      fill: #FFFFFF;\n",
              "    }\n",
              "  </style>\n",
              "\n",
              "      <script>\n",
              "        const buttonEl =\n",
              "          document.querySelector('#df-50fd923a-1211-4da7-bafd-0e7034f39866 button.colab-df-convert');\n",
              "        buttonEl.style.display =\n",
              "          google.colab.kernel.accessAllowed ? 'block' : 'none';\n",
              "\n",
              "        async function convertToInteractive(key) {\n",
              "          const element = document.querySelector('#df-50fd923a-1211-4da7-bafd-0e7034f39866');\n",
              "          const dataTable =\n",
              "            await google.colab.kernel.invokeFunction('convertToInteractive',\n",
              "                                                     [key], {});\n",
              "          if (!dataTable) return;\n",
              "\n",
              "          const docLinkHtml = 'Like what you see? Visit the ' +\n",
              "            '<a target=\"_blank\" href=https://colab.research.google.com/notebooks/data_table.ipynb>data table notebook</a>'\n",
              "            + ' to learn more about interactive tables.';\n",
              "          element.innerHTML = '';\n",
              "          dataTable['output_type'] = 'display_data';\n",
              "          await google.colab.output.renderOutput(dataTable, element);\n",
              "          const docLink = document.createElement('div');\n",
              "          docLink.innerHTML = docLinkHtml;\n",
              "          element.appendChild(docLink);\n",
              "        }\n",
              "      </script>\n",
              "    </div>\n",
              "  </div>\n",
              "  "
            ]
          },
          "metadata": {},
          "execution_count": 50
        }
      ]
    },
    {
      "cell_type": "code",
      "source": [
        "dataFrame3[(dataFrame3['session_id'] == 42) & (dataFrame3['item_id'] == 11784)]"
      ],
      "metadata": {
        "colab": {
          "base_uri": "https://localhost:8080/",
          "height": 49
        },
        "id": "nvyXo7XFf7Yd",
        "outputId": "3849603b-a37d-4a38-dcb4-818a755d45ab"
      },
      "execution_count": null,
      "outputs": [
        {
          "output_type": "execute_result",
          "data": {
            "text/plain": [
              "Empty DataFrame\n",
              "Columns: [session_id, item_id, rank]\n",
              "Index: []"
            ],
            "text/html": [
              "\n",
              "  <div id=\"df-d32dc585-7cbf-45cf-99ff-1e19d8d2fc31\">\n",
              "    <div class=\"colab-df-container\">\n",
              "      <div>\n",
              "<style scoped>\n",
              "    .dataframe tbody tr th:only-of-type {\n",
              "        vertical-align: middle;\n",
              "    }\n",
              "\n",
              "    .dataframe tbody tr th {\n",
              "        vertical-align: top;\n",
              "    }\n",
              "\n",
              "    .dataframe thead th {\n",
              "        text-align: right;\n",
              "    }\n",
              "</style>\n",
              "<table border=\"1\" class=\"dataframe\">\n",
              "  <thead>\n",
              "    <tr style=\"text-align: right;\">\n",
              "      <th></th>\n",
              "      <th>session_id</th>\n",
              "      <th>item_id</th>\n",
              "      <th>rank</th>\n",
              "    </tr>\n",
              "  </thead>\n",
              "  <tbody>\n",
              "  </tbody>\n",
              "</table>\n",
              "</div>\n",
              "      <button class=\"colab-df-convert\" onclick=\"convertToInteractive('df-d32dc585-7cbf-45cf-99ff-1e19d8d2fc31')\"\n",
              "              title=\"Convert this dataframe to an interactive table.\"\n",
              "              style=\"display:none;\">\n",
              "        \n",
              "  <svg xmlns=\"http://www.w3.org/2000/svg\" height=\"24px\"viewBox=\"0 0 24 24\"\n",
              "       width=\"24px\">\n",
              "    <path d=\"M0 0h24v24H0V0z\" fill=\"none\"/>\n",
              "    <path d=\"M18.56 5.44l.94 2.06.94-2.06 2.06-.94-2.06-.94-.94-2.06-.94 2.06-2.06.94zm-11 1L8.5 8.5l.94-2.06 2.06-.94-2.06-.94L8.5 2.5l-.94 2.06-2.06.94zm10 10l.94 2.06.94-2.06 2.06-.94-2.06-.94-.94-2.06-.94 2.06-2.06.94z\"/><path d=\"M17.41 7.96l-1.37-1.37c-.4-.4-.92-.59-1.43-.59-.52 0-1.04.2-1.43.59L10.3 9.45l-7.72 7.72c-.78.78-.78 2.05 0 2.83L4 21.41c.39.39.9.59 1.41.59.51 0 1.02-.2 1.41-.59l7.78-7.78 2.81-2.81c.8-.78.8-2.07 0-2.86zM5.41 20L4 18.59l7.72-7.72 1.47 1.35L5.41 20z\"/>\n",
              "  </svg>\n",
              "      </button>\n",
              "      \n",
              "  <style>\n",
              "    .colab-df-container {\n",
              "      display:flex;\n",
              "      flex-wrap:wrap;\n",
              "      gap: 12px;\n",
              "    }\n",
              "\n",
              "    .colab-df-convert {\n",
              "      background-color: #E8F0FE;\n",
              "      border: none;\n",
              "      border-radius: 50%;\n",
              "      cursor: pointer;\n",
              "      display: none;\n",
              "      fill: #1967D2;\n",
              "      height: 32px;\n",
              "      padding: 0 0 0 0;\n",
              "      width: 32px;\n",
              "    }\n",
              "\n",
              "    .colab-df-convert:hover {\n",
              "      background-color: #E2EBFA;\n",
              "      box-shadow: 0px 1px 2px rgba(60, 64, 67, 0.3), 0px 1px 3px 1px rgba(60, 64, 67, 0.15);\n",
              "      fill: #174EA6;\n",
              "    }\n",
              "\n",
              "    [theme=dark] .colab-df-convert {\n",
              "      background-color: #3B4455;\n",
              "      fill: #D2E3FC;\n",
              "    }\n",
              "\n",
              "    [theme=dark] .colab-df-convert:hover {\n",
              "      background-color: #434B5C;\n",
              "      box-shadow: 0px 1px 3px 1px rgba(0, 0, 0, 0.15);\n",
              "      filter: drop-shadow(0px 1px 2px rgba(0, 0, 0, 0.3));\n",
              "      fill: #FFFFFF;\n",
              "    }\n",
              "  </style>\n",
              "\n",
              "      <script>\n",
              "        const buttonEl =\n",
              "          document.querySelector('#df-d32dc585-7cbf-45cf-99ff-1e19d8d2fc31 button.colab-df-convert');\n",
              "        buttonEl.style.display =\n",
              "          google.colab.kernel.accessAllowed ? 'block' : 'none';\n",
              "\n",
              "        async function convertToInteractive(key) {\n",
              "          const element = document.querySelector('#df-d32dc585-7cbf-45cf-99ff-1e19d8d2fc31');\n",
              "          const dataTable =\n",
              "            await google.colab.kernel.invokeFunction('convertToInteractive',\n",
              "                                                     [key], {});\n",
              "          if (!dataTable) return;\n",
              "\n",
              "          const docLinkHtml = 'Like what you see? Visit the ' +\n",
              "            '<a target=\"_blank\" href=https://colab.research.google.com/notebooks/data_table.ipynb>data table notebook</a>'\n",
              "            + ' to learn more about interactive tables.';\n",
              "          element.innerHTML = '';\n",
              "          dataTable['output_type'] = 'display_data';\n",
              "          await google.colab.output.renderOutput(dataTable, element);\n",
              "          const docLink = document.createElement('div');\n",
              "          docLink.innerHTML = docLinkHtml;\n",
              "          element.appendChild(docLink);\n",
              "        }\n",
              "      </script>\n",
              "    </div>\n",
              "  </div>\n",
              "  "
            ]
          },
          "metadata": {},
          "execution_count": 60
        }
      ]
    }
  ],
  "metadata": {
    "kernelspec": {
      "display_name": "Python 3",
      "language": "python",
      "name": "python3"
    },
    "language_info": {
      "codemirror_mode": {
        "name": "ipython",
        "version": 3
      },
      "file_extension": ".py",
      "mimetype": "text/x-python",
      "name": "python",
      "nbconvert_exporter": "python",
      "pygments_lexer": "ipython3",
      "version": "3.7.6"
    },
    "colab": {
      "name": "data.ipynb",
      "provenance": [],
      "include_colab_link": true
    }
  },
  "nbformat": 4,
  "nbformat_minor": 0
}